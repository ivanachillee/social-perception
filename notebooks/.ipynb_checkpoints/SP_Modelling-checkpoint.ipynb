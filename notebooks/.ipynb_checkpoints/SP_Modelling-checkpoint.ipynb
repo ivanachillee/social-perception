{
 "cells": [
  {
   "cell_type": "code",
   "execution_count": null,
   "metadata": {
    "id": "2s6X6ae-9IS6"
   },
   "outputs": [],
   "source": [
    "import pandas as pd\n",
    "import numpy as np\n",
    "import matplotlib.pyplot as plt\n",
    "import seaborn as sns\n",
    "from urllib.request import Request, urlopen\n",
    "pd.options.mode.chained_assignment = None\n",
    "pd.set_option('display.max_colwidth', None)\n",
    "plt.style.use('classic')\n",
    "plt.style.use('seaborn-ticks')\n",
    "plt.style.use('seaborn-darkgrid')"
   ]
  },
  {
   "cell_type": "code",
   "execution_count": null,
   "metadata": {
    "id": "nerSSD6Ku9qL"
   },
   "outputs": [],
   "source": [
    "%matplotlib inline\n",
    "plt.style.use(\"dark_background\")"
   ]
  },
  {
   "cell_type": "code",
   "execution_count": null,
   "metadata": {
    "id": "1IWBuFUP9sMc"
   },
   "outputs": [],
   "source": [
    "#ESS Round 8: European Social Survey Round 8 Data (2016). Data file edition 2.1. NSD - Norwegian Centre for Research Data, Norway – Data Archive and distributor of ESS data for ESS ERIC. doi:10.21338/NSD-ESS8-2016.\n",
    "#Source Questionnaires at https://www.europeansocialsurvey.org/docs/round8/fieldwork/source/ESS8_source_questionnaires.pdf\n",
    "req = Request('http://ivanachille.com/publicdata/european-social-survey/processed/data_cleaned.csv')\n",
    "req2 = Request('http://ivanachille.com/publicdata/european-social-survey/processed/vars_cleaned.csv')\n",
    "req.add_header('User-Agent', 'Mozilla/5.0 (X11; Ubuntu; Linux x86_64; rv:77.0) Gecko/20100101 Firefox/77.0')\n",
    "req2.add_header('User-Agent', 'Mozilla/5.0 (X11; Ubuntu; Linux x86_64; rv:77.0) Gecko/20100101 Firefox/77.0')\n",
    "content = urlopen(req)\n",
    "content2 = urlopen(req2)\n",
    "\n",
    "data = pd.read_csv(content)\n",
    "vars = pd.read_csv(content2)"
   ]
  },
  {
   "cell_type": "code",
   "execution_count": null,
   "metadata": {
    "id": "7-bJHN6huarG"
   },
   "outputs": [],
   "source": [
    "#temporary functions\n",
    "def spl(v):\n",
    "  return psvp_labels[psvp.index(v)]\n",
    "\n",
    "def SortedR2(var):\n",
    "  corrs = []\n",
    "  for i in range(len(psvp)):\n",
    "    cm = np.corrcoef(data[var],data[psvp[i]])**2\n",
    "    nm = psvp[i]\n",
    "    corrs.append([cm[0][1],nm])\n",
    "  a = sorted(corrs)\n",
    "  return a[::-1][:10]\n",
    "\n",
    "def plot_init():\n",
    "  return plt.figure(figsize=(14,8))\n",
    "\n",
    "def rev(data, high):\n",
    "  #high: highest rank within scale\n",
    "  #reverses scores of ranking-type data, convenient for data visualisation.\n",
    "    data = high - data\n",
    "    return data\n",
    "\n",
    "def SearchVar(name):\n",
    "  return vars[vars['Name']==name]\n",
    "\n",
    "def lb(label):\n",
    "  return vars[vars['Label']==label]['Name']"
   ]
  },
  {
   "cell_type": "markdown",
   "metadata": {
    "id": "TfFANJonTuCI"
   },
   "source": [
    "<br>"
   ]
  },
  {
   "cell_type": "markdown",
   "metadata": {
    "id": "Po1Nd8_Eas6j"
   },
   "source": [
    "# **Case Study: Sociopolitical beliefs and opinion**\n",
    "Beliefs, and subsequently, opinion, are complex phenomenons that inherently have many different intricate conditions; nonetheless, these may be modelled and malleableized by different techniques applied to the underlying principles that social viewpoints emerge from."
   ]
  },
  {
   "cell_type": "markdown",
   "metadata": {
    "id": "fivVhDAilE-a"
   },
   "source": [
    "<br>"
   ]
  },
  {
   "cell_type": "markdown",
   "metadata": {
    "id": "BOukzyNaoPEv"
   },
   "source": [
    "<h4><b>The fundamental idea:</b></h4>"
   ]
  },
  {
   "cell_type": "markdown",
   "metadata": {
    "id": "m4_bOhk7Xp08"
   },
   "source": [
    " I'm making use of, as a starting point, that opinion emerges from previous beliefs (psychographics), conditioned by sociodemographics: life experience and education, being this conglomeration that is to model for malleability purposes, as opinion is simply a phenomenon that comes to light from the reaction of preceding beliefs with current affairs.<br><br>Hence, I will be using the psychographic-type features in this dataset that rank the personal importance subjects give to different aspects of life, including their fundamental beliefs. In the interest of keeping things simple, as this project does not look to focus on the convoluted occurrences of the data but rather reveal and exhibit clear and intelligible insights, I will be converting the ordinal scale of these variables into a binary scale, so it is smoother for the purpose of modelling.\n"
   ]
  },
  {
   "cell_type": "markdown",
   "metadata": {
    "id": "jkgdupkRop5W"
   },
   "source": [
    "<br>"
   ]
  },
  {
   "cell_type": "code",
   "execution_count": null,
   "metadata": {
    "id": "nrcherB_S_wA"
   },
   "outputs": [],
   "source": [
    "def trf(rcl,pos):\n",
    "  if rcl.iloc[pos]<=3: #lower end threshold\n",
    "    return 0\n",
    "  if rcl.iloc[pos]>=4: #higher end threshold\n",
    "    return 1"
   ]
  },
  {
   "cell_type": "code",
   "execution_count": null,
   "metadata": {
    "id": "2VgNwWJiVvI3"
   },
   "outputs": [],
   "source": [
    "psy_vars =  ['impfun','imptrad','impenv','iplylfr','iprspot','ipbhprp','ipadvnt','ipstrgv',\n",
    "                'ipsuces','iphlppl','impfree','ipgdtim','ipmodst','ipudrst','ipfrule','impdiff','impsafe','ipshabt','imprich','ipcrtiv']"
   ]
  },
  {
   "cell_type": "code",
   "execution_count": null,
   "metadata": {
    "id": "BYIMRiuQV3W2"
   },
   "outputs": [],
   "source": [
    "dss = data[psy_vars]"
   ]
  },
  {
   "cell_type": "code",
   "execution_count": null,
   "metadata": {
    "id": "a1I1onPuWkX9"
   },
   "outputs": [],
   "source": [
    "psychographics_binarized_data = pd.DataFrame()"
   ]
  },
  {
   "cell_type": "code",
   "execution_count": null,
   "metadata": {
    "id": "i_PJD6TiWURw"
   },
   "outputs": [],
   "source": [
    "for i in range(len(psy_vars)):\n",
    "  psv = psy_vars[i]\n",
    "  psychographics_binarized_data[psv] = [trf(dss[psv],i) for i in range(len(dss))] #constraints data to binary output"
   ]
  },
  {
   "cell_type": "code",
   "execution_count": null,
   "metadata": {
    "id": "JF_h3lnpFC1D"
   },
   "outputs": [],
   "source": [
    "to_transform = np.array( data[\"agea\"]  ).reshape(-1,1)\n",
    "age_scaled = to_transform/(2*(np.std(to_transform)))\n",
    "psychographics_binarized_data[\"age\"] = age_scaled\n",
    "\n",
    "to_transform = np.array( data[\"eduyrs\"]  ).reshape(-1,1)\n",
    "eduyrs_scaled = to_transform/(2*(np.std(to_transform)))\n",
    "psychographics_binarized_data[\"eduyrs\"] = eduyrs_scaled\n",
    "\n",
    "#scale numeric data by dividing by two stds in order to put them in the approximately same scale as 0/1 variables."
   ]
  },
  {
   "cell_type": "code",
   "execution_count": null,
   "metadata": {
    "colab": {
     "base_uri": "https://localhost:8080/",
     "height": 402
    },
    "id": "39ve4O51peig",
    "outputId": "e458fdbd-53ea-48cd-8954-d81261454a89"
   },
   "outputs": [
    {
     "data": {
      "text/html": [
       "<div>\n",
       "<style scoped>\n",
       "    .dataframe tbody tr th:only-of-type {\n",
       "        vertical-align: middle;\n",
       "    }\n",
       "\n",
       "    .dataframe tbody tr th {\n",
       "        vertical-align: top;\n",
       "    }\n",
       "\n",
       "    .dataframe thead th {\n",
       "        text-align: right;\n",
       "    }\n",
       "</style>\n",
       "<table border=\"1\" class=\"dataframe\">\n",
       "  <thead>\n",
       "    <tr style=\"text-align: right;\">\n",
       "      <th></th>\n",
       "      <th>impfun</th>\n",
       "      <th>imptrad</th>\n",
       "      <th>impenv</th>\n",
       "      <th>iplylfr</th>\n",
       "      <th>iprspot</th>\n",
       "      <th>ipbhprp</th>\n",
       "      <th>ipadvnt</th>\n",
       "      <th>ipstrgv</th>\n",
       "      <th>ipsuces</th>\n",
       "      <th>iphlppl</th>\n",
       "      <th>impfree</th>\n",
       "      <th>ipgdtim</th>\n",
       "      <th>ipmodst</th>\n",
       "      <th>ipudrst</th>\n",
       "      <th>ipfrule</th>\n",
       "      <th>impdiff</th>\n",
       "      <th>impsafe</th>\n",
       "      <th>ipshabt</th>\n",
       "      <th>imprich</th>\n",
       "      <th>ipcrtiv</th>\n",
       "    </tr>\n",
       "  </thead>\n",
       "  <tbody>\n",
       "    <tr>\n",
       "      <th>0</th>\n",
       "      <td>3</td>\n",
       "      <td>6</td>\n",
       "      <td>1</td>\n",
       "      <td>1</td>\n",
       "      <td>1</td>\n",
       "      <td>6</td>\n",
       "      <td>3</td>\n",
       "      <td>6</td>\n",
       "      <td>2</td>\n",
       "      <td>1</td>\n",
       "      <td>3</td>\n",
       "      <td>4</td>\n",
       "      <td>2</td>\n",
       "      <td>1</td>\n",
       "      <td>5</td>\n",
       "      <td>3</td>\n",
       "      <td>2</td>\n",
       "      <td>2</td>\n",
       "      <td>6</td>\n",
       "      <td>2</td>\n",
       "    </tr>\n",
       "    <tr>\n",
       "      <th>1</th>\n",
       "      <td>5</td>\n",
       "      <td>5</td>\n",
       "      <td>2</td>\n",
       "      <td>2</td>\n",
       "      <td>2</td>\n",
       "      <td>5</td>\n",
       "      <td>5</td>\n",
       "      <td>4</td>\n",
       "      <td>3</td>\n",
       "      <td>3</td>\n",
       "      <td>2</td>\n",
       "      <td>3</td>\n",
       "      <td>4</td>\n",
       "      <td>3</td>\n",
       "      <td>5</td>\n",
       "      <td>3</td>\n",
       "      <td>5</td>\n",
       "      <td>3</td>\n",
       "      <td>6</td>\n",
       "      <td>3</td>\n",
       "    </tr>\n",
       "    <tr>\n",
       "      <th>2</th>\n",
       "      <td>3</td>\n",
       "      <td>2</td>\n",
       "      <td>2</td>\n",
       "      <td>1</td>\n",
       "      <td>3</td>\n",
       "      <td>3</td>\n",
       "      <td>6</td>\n",
       "      <td>1</td>\n",
       "      <td>6</td>\n",
       "      <td>3</td>\n",
       "      <td>2</td>\n",
       "      <td>2</td>\n",
       "      <td>3</td>\n",
       "      <td>2</td>\n",
       "      <td>5</td>\n",
       "      <td>6</td>\n",
       "      <td>1</td>\n",
       "      <td>4</td>\n",
       "      <td>5</td>\n",
       "      <td>3</td>\n",
       "    </tr>\n",
       "    <tr>\n",
       "      <th>3</th>\n",
       "      <td>2</td>\n",
       "      <td>2</td>\n",
       "      <td>3</td>\n",
       "      <td>2</td>\n",
       "      <td>2</td>\n",
       "      <td>4</td>\n",
       "      <td>3</td>\n",
       "      <td>2</td>\n",
       "      <td>3</td>\n",
       "      <td>3</td>\n",
       "      <td>2</td>\n",
       "      <td>2</td>\n",
       "      <td>2</td>\n",
       "      <td>2</td>\n",
       "      <td>3</td>\n",
       "      <td>3</td>\n",
       "      <td>2</td>\n",
       "      <td>2</td>\n",
       "      <td>3</td>\n",
       "      <td>2</td>\n",
       "    </tr>\n",
       "    <tr>\n",
       "      <th>4</th>\n",
       "      <td>1</td>\n",
       "      <td>4</td>\n",
       "      <td>1</td>\n",
       "      <td>1</td>\n",
       "      <td>3</td>\n",
       "      <td>2</td>\n",
       "      <td>5</td>\n",
       "      <td>4</td>\n",
       "      <td>3</td>\n",
       "      <td>1</td>\n",
       "      <td>1</td>\n",
       "      <td>1</td>\n",
       "      <td>1</td>\n",
       "      <td>3</td>\n",
       "      <td>5</td>\n",
       "      <td>3</td>\n",
       "      <td>3</td>\n",
       "      <td>4</td>\n",
       "      <td>4</td>\n",
       "      <td>3</td>\n",
       "    </tr>\n",
       "    <tr>\n",
       "      <th>...</th>\n",
       "      <td>...</td>\n",
       "      <td>...</td>\n",
       "      <td>...</td>\n",
       "      <td>...</td>\n",
       "      <td>...</td>\n",
       "      <td>...</td>\n",
       "      <td>...</td>\n",
       "      <td>...</td>\n",
       "      <td>...</td>\n",
       "      <td>...</td>\n",
       "      <td>...</td>\n",
       "      <td>...</td>\n",
       "      <td>...</td>\n",
       "      <td>...</td>\n",
       "      <td>...</td>\n",
       "      <td>...</td>\n",
       "      <td>...</td>\n",
       "      <td>...</td>\n",
       "      <td>...</td>\n",
       "      <td>...</td>\n",
       "    </tr>\n",
       "    <tr>\n",
       "      <th>44382</th>\n",
       "      <td>1</td>\n",
       "      <td>1</td>\n",
       "      <td>2</td>\n",
       "      <td>1</td>\n",
       "      <td>2</td>\n",
       "      <td>2</td>\n",
       "      <td>1</td>\n",
       "      <td>1</td>\n",
       "      <td>1</td>\n",
       "      <td>1</td>\n",
       "      <td>1</td>\n",
       "      <td>1</td>\n",
       "      <td>2</td>\n",
       "      <td>4</td>\n",
       "      <td>5</td>\n",
       "      <td>1</td>\n",
       "      <td>1</td>\n",
       "      <td>2</td>\n",
       "      <td>2</td>\n",
       "      <td>1</td>\n",
       "    </tr>\n",
       "    <tr>\n",
       "      <th>44383</th>\n",
       "      <td>2</td>\n",
       "      <td>1</td>\n",
       "      <td>1</td>\n",
       "      <td>1</td>\n",
       "      <td>2</td>\n",
       "      <td>1</td>\n",
       "      <td>4</td>\n",
       "      <td>1</td>\n",
       "      <td>1</td>\n",
       "      <td>1</td>\n",
       "      <td>1</td>\n",
       "      <td>3</td>\n",
       "      <td>3</td>\n",
       "      <td>2</td>\n",
       "      <td>2</td>\n",
       "      <td>3</td>\n",
       "      <td>2</td>\n",
       "      <td>2</td>\n",
       "      <td>4</td>\n",
       "      <td>1</td>\n",
       "    </tr>\n",
       "    <tr>\n",
       "      <th>44384</th>\n",
       "      <td>5</td>\n",
       "      <td>2</td>\n",
       "      <td>1</td>\n",
       "      <td>2</td>\n",
       "      <td>1</td>\n",
       "      <td>1</td>\n",
       "      <td>4</td>\n",
       "      <td>2</td>\n",
       "      <td>2</td>\n",
       "      <td>2</td>\n",
       "      <td>1</td>\n",
       "      <td>4</td>\n",
       "      <td>1</td>\n",
       "      <td>2</td>\n",
       "      <td>1</td>\n",
       "      <td>2</td>\n",
       "      <td>1</td>\n",
       "      <td>1</td>\n",
       "      <td>6</td>\n",
       "      <td>2</td>\n",
       "    </tr>\n",
       "    <tr>\n",
       "      <th>44385</th>\n",
       "      <td>1</td>\n",
       "      <td>4</td>\n",
       "      <td>2</td>\n",
       "      <td>3</td>\n",
       "      <td>1</td>\n",
       "      <td>3</td>\n",
       "      <td>2</td>\n",
       "      <td>1</td>\n",
       "      <td>1</td>\n",
       "      <td>1</td>\n",
       "      <td>1</td>\n",
       "      <td>1</td>\n",
       "      <td>2</td>\n",
       "      <td>2</td>\n",
       "      <td>5</td>\n",
       "      <td>1</td>\n",
       "      <td>2</td>\n",
       "      <td>2</td>\n",
       "      <td>3</td>\n",
       "      <td>2</td>\n",
       "    </tr>\n",
       "    <tr>\n",
       "      <th>44386</th>\n",
       "      <td>3</td>\n",
       "      <td>3</td>\n",
       "      <td>4</td>\n",
       "      <td>3</td>\n",
       "      <td>3</td>\n",
       "      <td>2</td>\n",
       "      <td>2</td>\n",
       "      <td>4</td>\n",
       "      <td>4</td>\n",
       "      <td>2</td>\n",
       "      <td>2</td>\n",
       "      <td>3</td>\n",
       "      <td>3</td>\n",
       "      <td>4</td>\n",
       "      <td>5</td>\n",
       "      <td>3</td>\n",
       "      <td>4</td>\n",
       "      <td>3</td>\n",
       "      <td>5</td>\n",
       "      <td>3</td>\n",
       "    </tr>\n",
       "  </tbody>\n",
       "</table>\n",
       "<p>44387 rows × 20 columns</p>\n",
       "</div>"
      ],
      "text/plain": [
       "       impfun  imptrad  impenv  iplylfr  ...  impsafe  ipshabt  imprich  ipcrtiv\n",
       "0           3        6       1        1  ...        2        2        6        2\n",
       "1           5        5       2        2  ...        5        3        6        3\n",
       "2           3        2       2        1  ...        1        4        5        3\n",
       "3           2        2       3        2  ...        2        2        3        2\n",
       "4           1        4       1        1  ...        3        4        4        3\n",
       "...       ...      ...     ...      ...  ...      ...      ...      ...      ...\n",
       "44382       1        1       2        1  ...        1        2        2        1\n",
       "44383       2        1       1        1  ...        2        2        4        1\n",
       "44384       5        2       1        2  ...        1        1        6        2\n",
       "44385       1        4       2        3  ...        2        2        3        2\n",
       "44386       3        3       4        3  ...        4        3        5        3\n",
       "\n",
       "[44387 rows x 20 columns]"
      ]
     },
     "execution_count": 315,
     "metadata": {
      "tags": []
     },
     "output_type": "execute_result"
    }
   ],
   "source": [
    "dss"
   ]
  },
  {
   "cell_type": "code",
   "execution_count": null,
   "metadata": {
    "colab": {
     "base_uri": "https://localhost:8080/",
     "height": 422
    },
    "id": "lg-4VqbhVcuL",
    "outputId": "b9150dec-fd45-47d3-e5dd-45b88ba539c4"
   },
   "outputs": [
    {
     "data": {
      "text/html": [
       "<div>\n",
       "<style scoped>\n",
       "    .dataframe tbody tr th:only-of-type {\n",
       "        vertical-align: middle;\n",
       "    }\n",
       "\n",
       "    .dataframe tbody tr th {\n",
       "        vertical-align: top;\n",
       "    }\n",
       "\n",
       "    .dataframe thead th {\n",
       "        text-align: right;\n",
       "    }\n",
       "</style>\n",
       "<table border=\"1\" class=\"dataframe\">\n",
       "  <thead>\n",
       "    <tr style=\"text-align: right;\">\n",
       "      <th></th>\n",
       "      <th>impfun</th>\n",
       "      <th>imptrad</th>\n",
       "      <th>impenv</th>\n",
       "      <th>iplylfr</th>\n",
       "      <th>iprspot</th>\n",
       "      <th>ipbhprp</th>\n",
       "      <th>ipadvnt</th>\n",
       "      <th>ipstrgv</th>\n",
       "      <th>ipsuces</th>\n",
       "      <th>iphlppl</th>\n",
       "      <th>impfree</th>\n",
       "      <th>ipgdtim</th>\n",
       "      <th>ipmodst</th>\n",
       "      <th>ipudrst</th>\n",
       "      <th>ipfrule</th>\n",
       "      <th>impdiff</th>\n",
       "      <th>impsafe</th>\n",
       "      <th>ipshabt</th>\n",
       "      <th>imprich</th>\n",
       "      <th>ipcrtiv</th>\n",
       "      <th>age</th>\n",
       "      <th>eduyrs</th>\n",
       "    </tr>\n",
       "  </thead>\n",
       "  <tbody>\n",
       "    <tr>\n",
       "      <th>0</th>\n",
       "      <td>0</td>\n",
       "      <td>1</td>\n",
       "      <td>0</td>\n",
       "      <td>0</td>\n",
       "      <td>0</td>\n",
       "      <td>1</td>\n",
       "      <td>0</td>\n",
       "      <td>1</td>\n",
       "      <td>0</td>\n",
       "      <td>0</td>\n",
       "      <td>0</td>\n",
       "      <td>1</td>\n",
       "      <td>0</td>\n",
       "      <td>0</td>\n",
       "      <td>1</td>\n",
       "      <td>0</td>\n",
       "      <td>0</td>\n",
       "      <td>0</td>\n",
       "      <td>1</td>\n",
       "      <td>0</td>\n",
       "      <td>0.914933</td>\n",
       "      <td>2.741545</td>\n",
       "    </tr>\n",
       "    <tr>\n",
       "      <th>1</th>\n",
       "      <td>1</td>\n",
       "      <td>1</td>\n",
       "      <td>0</td>\n",
       "      <td>0</td>\n",
       "      <td>0</td>\n",
       "      <td>1</td>\n",
       "      <td>1</td>\n",
       "      <td>1</td>\n",
       "      <td>0</td>\n",
       "      <td>0</td>\n",
       "      <td>0</td>\n",
       "      <td>0</td>\n",
       "      <td>1</td>\n",
       "      <td>0</td>\n",
       "      <td>1</td>\n",
       "      <td>0</td>\n",
       "      <td>1</td>\n",
       "      <td>0</td>\n",
       "      <td>1</td>\n",
       "      <td>0</td>\n",
       "      <td>1.399309</td>\n",
       "      <td>2.088796</td>\n",
       "    </tr>\n",
       "    <tr>\n",
       "      <th>2</th>\n",
       "      <td>0</td>\n",
       "      <td>0</td>\n",
       "      <td>0</td>\n",
       "      <td>0</td>\n",
       "      <td>0</td>\n",
       "      <td>0</td>\n",
       "      <td>1</td>\n",
       "      <td>0</td>\n",
       "      <td>1</td>\n",
       "      <td>0</td>\n",
       "      <td>0</td>\n",
       "      <td>0</td>\n",
       "      <td>0</td>\n",
       "      <td>0</td>\n",
       "      <td>1</td>\n",
       "      <td>1</td>\n",
       "      <td>0</td>\n",
       "      <td>1</td>\n",
       "      <td>1</td>\n",
       "      <td>0</td>\n",
       "      <td>1.829866</td>\n",
       "      <td>1.697147</td>\n",
       "    </tr>\n",
       "    <tr>\n",
       "      <th>3</th>\n",
       "      <td>0</td>\n",
       "      <td>0</td>\n",
       "      <td>0</td>\n",
       "      <td>0</td>\n",
       "      <td>0</td>\n",
       "      <td>1</td>\n",
       "      <td>0</td>\n",
       "      <td>0</td>\n",
       "      <td>0</td>\n",
       "      <td>0</td>\n",
       "      <td>0</td>\n",
       "      <td>0</td>\n",
       "      <td>0</td>\n",
       "      <td>0</td>\n",
       "      <td>0</td>\n",
       "      <td>0</td>\n",
       "      <td>0</td>\n",
       "      <td>0</td>\n",
       "      <td>0</td>\n",
       "      <td>0</td>\n",
       "      <td>1.453129</td>\n",
       "      <td>1.566597</td>\n",
       "    </tr>\n",
       "    <tr>\n",
       "      <th>4</th>\n",
       "      <td>0</td>\n",
       "      <td>1</td>\n",
       "      <td>0</td>\n",
       "      <td>0</td>\n",
       "      <td>0</td>\n",
       "      <td>0</td>\n",
       "      <td>1</td>\n",
       "      <td>1</td>\n",
       "      <td>0</td>\n",
       "      <td>0</td>\n",
       "      <td>0</td>\n",
       "      <td>0</td>\n",
       "      <td>0</td>\n",
       "      <td>0</td>\n",
       "      <td>1</td>\n",
       "      <td>0</td>\n",
       "      <td>0</td>\n",
       "      <td>1</td>\n",
       "      <td>1</td>\n",
       "      <td>0</td>\n",
       "      <td>0.538196</td>\n",
       "      <td>1.697147</td>\n",
       "    </tr>\n",
       "    <tr>\n",
       "      <th>...</th>\n",
       "      <td>...</td>\n",
       "      <td>...</td>\n",
       "      <td>...</td>\n",
       "      <td>...</td>\n",
       "      <td>...</td>\n",
       "      <td>...</td>\n",
       "      <td>...</td>\n",
       "      <td>...</td>\n",
       "      <td>...</td>\n",
       "      <td>...</td>\n",
       "      <td>...</td>\n",
       "      <td>...</td>\n",
       "      <td>...</td>\n",
       "      <td>...</td>\n",
       "      <td>...</td>\n",
       "      <td>...</td>\n",
       "      <td>...</td>\n",
       "      <td>...</td>\n",
       "      <td>...</td>\n",
       "      <td>...</td>\n",
       "      <td>...</td>\n",
       "      <td>...</td>\n",
       "    </tr>\n",
       "    <tr>\n",
       "      <th>44382</th>\n",
       "      <td>0</td>\n",
       "      <td>0</td>\n",
       "      <td>0</td>\n",
       "      <td>0</td>\n",
       "      <td>0</td>\n",
       "      <td>0</td>\n",
       "      <td>0</td>\n",
       "      <td>0</td>\n",
       "      <td>0</td>\n",
       "      <td>0</td>\n",
       "      <td>0</td>\n",
       "      <td>0</td>\n",
       "      <td>0</td>\n",
       "      <td>1</td>\n",
       "      <td>1</td>\n",
       "      <td>0</td>\n",
       "      <td>0</td>\n",
       "      <td>0</td>\n",
       "      <td>0</td>\n",
       "      <td>0</td>\n",
       "      <td>1.749137</td>\n",
       "      <td>1.566597</td>\n",
       "    </tr>\n",
       "    <tr>\n",
       "      <th>44383</th>\n",
       "      <td>0</td>\n",
       "      <td>0</td>\n",
       "      <td>0</td>\n",
       "      <td>0</td>\n",
       "      <td>0</td>\n",
       "      <td>0</td>\n",
       "      <td>1</td>\n",
       "      <td>0</td>\n",
       "      <td>0</td>\n",
       "      <td>0</td>\n",
       "      <td>0</td>\n",
       "      <td>0</td>\n",
       "      <td>0</td>\n",
       "      <td>0</td>\n",
       "      <td>0</td>\n",
       "      <td>0</td>\n",
       "      <td>0</td>\n",
       "      <td>0</td>\n",
       "      <td>1</td>\n",
       "      <td>0</td>\n",
       "      <td>1.076392</td>\n",
       "      <td>2.088796</td>\n",
       "    </tr>\n",
       "    <tr>\n",
       "      <th>44384</th>\n",
       "      <td>1</td>\n",
       "      <td>0</td>\n",
       "      <td>0</td>\n",
       "      <td>0</td>\n",
       "      <td>0</td>\n",
       "      <td>0</td>\n",
       "      <td>1</td>\n",
       "      <td>0</td>\n",
       "      <td>0</td>\n",
       "      <td>0</td>\n",
       "      <td>0</td>\n",
       "      <td>1</td>\n",
       "      <td>0</td>\n",
       "      <td>0</td>\n",
       "      <td>0</td>\n",
       "      <td>0</td>\n",
       "      <td>0</td>\n",
       "      <td>0</td>\n",
       "      <td>1</td>\n",
       "      <td>0</td>\n",
       "      <td>1.695317</td>\n",
       "      <td>2.219346</td>\n",
       "    </tr>\n",
       "    <tr>\n",
       "      <th>44385</th>\n",
       "      <td>0</td>\n",
       "      <td>1</td>\n",
       "      <td>0</td>\n",
       "      <td>0</td>\n",
       "      <td>0</td>\n",
       "      <td>0</td>\n",
       "      <td>0</td>\n",
       "      <td>0</td>\n",
       "      <td>0</td>\n",
       "      <td>0</td>\n",
       "      <td>0</td>\n",
       "      <td>0</td>\n",
       "      <td>0</td>\n",
       "      <td>0</td>\n",
       "      <td>1</td>\n",
       "      <td>0</td>\n",
       "      <td>0</td>\n",
       "      <td>0</td>\n",
       "      <td>0</td>\n",
       "      <td>0</td>\n",
       "      <td>1.210941</td>\n",
       "      <td>2.349896</td>\n",
       "    </tr>\n",
       "    <tr>\n",
       "      <th>44386</th>\n",
       "      <td>0</td>\n",
       "      <td>0</td>\n",
       "      <td>1</td>\n",
       "      <td>0</td>\n",
       "      <td>0</td>\n",
       "      <td>0</td>\n",
       "      <td>0</td>\n",
       "      <td>1</td>\n",
       "      <td>1</td>\n",
       "      <td>0</td>\n",
       "      <td>0</td>\n",
       "      <td>0</td>\n",
       "      <td>0</td>\n",
       "      <td>1</td>\n",
       "      <td>1</td>\n",
       "      <td>0</td>\n",
       "      <td>1</td>\n",
       "      <td>0</td>\n",
       "      <td>1</td>\n",
       "      <td>0</td>\n",
       "      <td>1.372400</td>\n",
       "      <td>1.436048</td>\n",
       "    </tr>\n",
       "  </tbody>\n",
       "</table>\n",
       "<p>44387 rows × 22 columns</p>\n",
       "</div>"
      ],
      "text/plain": [
       "       impfun  imptrad  impenv  iplylfr  ...  imprich  ipcrtiv       age    eduyrs\n",
       "0           0        1       0        0  ...        1        0  0.914933  2.741545\n",
       "1           1        1       0        0  ...        1        0  1.399309  2.088796\n",
       "2           0        0       0        0  ...        1        0  1.829866  1.697147\n",
       "3           0        0       0        0  ...        0        0  1.453129  1.566597\n",
       "4           0        1       0        0  ...        1        0  0.538196  1.697147\n",
       "...       ...      ...     ...      ...  ...      ...      ...       ...       ...\n",
       "44382       0        0       0        0  ...        0        0  1.749137  1.566597\n",
       "44383       0        0       0        0  ...        1        0  1.076392  2.088796\n",
       "44384       1        0       0        0  ...        1        0  1.695317  2.219346\n",
       "44385       0        1       0        0  ...        0        0  1.210941  2.349896\n",
       "44386       0        0       1        0  ...        1        0  1.372400  1.436048\n",
       "\n",
       "[44387 rows x 22 columns]"
      ]
     },
     "execution_count": 316,
     "metadata": {
      "tags": []
     },
     "output_type": "execute_result"
    }
   ],
   "source": [
    "psychographics_binarized_data"
   ]
  },
  {
   "cell_type": "code",
   "execution_count": null,
   "metadata": {
    "id": "k__IVLPveCvx"
   },
   "outputs": [],
   "source": [
    "def target_bin(target_variable,c1,c2):\n",
    "  #c1: lower end threshold constraint, sets 0\n",
    "  #c2: higher end threshold constraint, sets 1\n",
    "  def transform_target(rcl,pos):\n",
    "    if rcl.iloc[pos]<=c1:\n",
    "      return 0\n",
    "    if rcl.iloc[pos]>=c2:\n",
    "      return 1\n",
    "  return [transform_target(data[target_variable],i) for i in range(len(data))]"
   ]
  },
  {
   "cell_type": "code",
   "execution_count": null,
   "metadata": {
    "id": "9zVnjruJiWo5"
   },
   "outputs": [],
   "source": [
    "y = target_bin(\"sblazy\",2,3) #target variable constrained"
   ]
  },
  {
   "cell_type": "code",
   "execution_count": null,
   "metadata": {
    "colab": {
     "base_uri": "https://localhost:8080/",
     "height": 343
    },
    "id": "Vs0dxl_BZNU2",
    "outputId": "b3bb1e2f-b2c4-4780-a4d7-e40631389380"
   },
   "outputs": [
    {
     "data": {
      "text/plain": [
       "(array([18045.,     0.,     0.,     0.,     0.,     0.,     0.,     0.,\n",
       "            0., 26342.]),\n",
       " array([0. , 0.1, 0.2, 0.3, 0.4, 0.5, 0.6, 0.7, 0.8, 0.9, 1. ]),\n",
       " <a list of 10 Patch objects>)"
      ]
     },
     "execution_count": 320,
     "metadata": {
      "tags": []
     },
     "output_type": "execute_result"
    },
    {
     "data": {
      "image/png": "[encoded data removed]",
      "text/plain": [
       "<Figure size 432x288 with 1 Axes>"
      ]
     },
     "metadata": {
      "tags": []
     },
     "output_type": "display_data"
    }
   ],
   "source": [
    "plt.hist(y)"
   ]
  },
  {
   "cell_type": "code",
   "execution_count": null,
   "metadata": {
    "id": "TlBzSh-qW5OG"
   },
   "outputs": [],
   "source": [
    "x_pbd_train = psychographics_binarized_data.head(31071)\n",
    "x_pbd_test = psychographics_binarized_data.tail(13316)"
   ]
  },
  {
   "cell_type": "code",
   "execution_count": null,
   "metadata": {
    "id": "Rps6IC6Dihrg"
   },
   "outputs": [],
   "source": [
    "y_train = y[:31071]\n",
    "y_test = y[-13316:]"
   ]
  },
  {
   "cell_type": "markdown",
   "metadata": {
    "id": "Q_n-Kba1Mqda"
   },
   "source": [
    "<br>"
   ]
  },
  {
   "cell_type": "markdown",
   "metadata": {
    "id": "tq297bMxMoLL"
   },
   "source": [
    "### Decision Tree"
   ]
  },
  {
   "cell_type": "code",
   "execution_count": null,
   "metadata": {
    "id": "lxgeOGIDXcZK"
   },
   "outputs": [],
   "source": [
    "from sklearn.tree import DecisionTreeClassifier\n",
    "model =  DecisionTreeClassifier(max_features=\"auto\",random_state=0).fit(x_pbd_train,y_train)"
   ]
  },
  {
   "cell_type": "code",
   "execution_count": null,
   "metadata": {
    "id": "ScD-WaejXtZF"
   },
   "outputs": [],
   "source": [
    "from sklearn.metrics import f1_score\n",
    "y_pred = model.predict(x_pbd_test)"
   ]
  },
  {
   "cell_type": "code",
   "execution_count": null,
   "metadata": {
    "colab": {
     "base_uri": "https://localhost:8080/"
    },
    "id": "DIkmyyO1Xter",
    "outputId": "876014c0-3c3a-4918-f6d4-b7a9b65b5327"
   },
   "outputs": [
    {
     "data": {
      "text/plain": [
       "0.5969864581346557"
      ]
     },
     "execution_count": 325,
     "metadata": {
      "tags": []
     },
     "output_type": "execute_result"
    }
   ],
   "source": [
    "f1_score(y_test, y_pred)"
   ]
  },
  {
   "cell_type": "code",
   "execution_count": null,
   "metadata": {
    "colab": {
     "base_uri": "https://localhost:8080/"
    },
    "id": "Ix500EzLYPkt",
    "outputId": "aa9964bd-f91c-4874-ff8e-f0c75c5d21eb"
   },
   "outputs": [
    {
     "data": {
      "text/plain": [
       "0.5239561429858817"
      ]
     },
     "execution_count": 326,
     "metadata": {
      "tags": []
     },
     "output_type": "execute_result"
    }
   ],
   "source": [
    "model.score(x_pbd_test,y_test)"
   ]
  },
  {
   "cell_type": "markdown",
   "metadata": {
    "id": "b2KHyVfv8GqS"
   },
   "source": [
    "<br>"
   ]
  },
  {
   "cell_type": "markdown",
   "metadata": {
    "id": "m1XgstLe8BfI"
   },
   "source": [
    "### GaussianNB"
   ]
  },
  {
   "cell_type": "code",
   "execution_count": null,
   "metadata": {
    "id": "pIPQ1o-JlPrO"
   },
   "outputs": [],
   "source": [
    "from sklearn.naive_bayes import GaussianNB\n",
    "\n",
    "model =  GaussianNB(var_smoothing=0.000001).fit(x_pbd_train,y_train)\n",
    "y_pred = model.predict(x_pbd_test)"
   ]
  },
  {
   "cell_type": "code",
   "execution_count": null,
   "metadata": {
    "colab": {
     "base_uri": "https://localhost:8080/"
    },
    "id": "J9GUholMn6q2",
    "outputId": "02e4b3c6-3905-46ee-c31a-141faed924ed"
   },
   "outputs": [
    {
     "data": {
      "text/plain": [
       "0.6428197522247426"
      ]
     },
     "execution_count": 328,
     "metadata": {
      "tags": []
     },
     "output_type": "execute_result"
    }
   ],
   "source": [
    "f1_score(y_test, y_pred)"
   ]
  },
  {
   "cell_type": "code",
   "execution_count": null,
   "metadata": {
    "colab": {
     "base_uri": "https://localhost:8080/"
    },
    "id": "-K3gR4Wjn9x6",
    "outputId": "1c231395-931b-4b45-abad-28a4a46b91d3"
   },
   "outputs": [
    {
     "data": {
      "text/plain": [
       "0.5388254731150496"
      ]
     },
     "execution_count": 329,
     "metadata": {
      "tags": []
     },
     "output_type": "execute_result"
    }
   ],
   "source": [
    "model.score(x_pbd_test,y_test)"
   ]
  },
  {
   "cell_type": "markdown",
   "metadata": {
    "id": "thBNShxo-tzD"
   },
   "source": [
    "<br>"
   ]
  },
  {
   "cell_type": "markdown",
   "metadata": {
    "id": "hpZjW8I7-shL"
   },
   "source": [
    "### K-Nearest Neighbors"
   ]
  },
  {
   "cell_type": "code",
   "execution_count": null,
   "metadata": {
    "id": "GSk9RA0do_3J"
   },
   "outputs": [],
   "source": [
    "from sklearn.neighbors import KNeighborsClassifier\n",
    "model =  KNeighborsClassifier(n_neighbors=5).fit(x_pbd_train,y_train)"
   ]
  },
  {
   "cell_type": "code",
   "execution_count": null,
   "metadata": {
    "id": "LgrqbDkLrBe8"
   },
   "outputs": [],
   "source": [
    "y_pred = model.predict(x_pbd_test)"
   ]
  },
  {
   "cell_type": "code",
   "execution_count": null,
   "metadata": {
    "colab": {
     "base_uri": "https://localhost:8080/"
    },
    "id": "PKdNDM8brCUo",
    "outputId": "d0497ea5-2b13-4e4a-a87e-d50cac71dd20"
   },
   "outputs": [
    {
     "data": {
      "text/plain": [
       "0.6302158273381294"
      ]
     },
     "execution_count": 332,
     "metadata": {
      "tags": []
     },
     "output_type": "execute_result"
    }
   ],
   "source": [
    "f1_score(y_test, y_pred)"
   ]
  },
  {
   "cell_type": "code",
   "execution_count": null,
   "metadata": {
    "colab": {
     "base_uri": "https://localhost:8080/"
    },
    "id": "8rL9L2STrD_u",
    "outputId": "f39e0064-9d0b-41c1-a4e2-868c93f265ac"
   },
   "outputs": [
    {
     "data": {
      "text/plain": [
       "0.5367978371883448"
      ]
     },
     "execution_count": 333,
     "metadata": {
      "tags": []
     },
     "output_type": "execute_result"
    }
   ],
   "source": [
    "model.score(x_pbd_test,y_test)"
   ]
  },
  {
   "cell_type": "markdown",
   "metadata": {
    "id": "YpPIn-Xb8J2M"
   },
   "source": [
    "<br>"
   ]
  },
  {
   "cell_type": "markdown",
   "metadata": {
    "id": "WL6SG0ii8K6v"
   },
   "source": [
    "### LinearSVC"
   ]
  },
  {
   "cell_type": "code",
   "execution_count": null,
   "metadata": {
    "id": "eGTLxJozrQi6"
   },
   "outputs": [],
   "source": [
    "from sklearn.svm import LinearSVC"
   ]
  },
  {
   "cell_type": "code",
   "execution_count": null,
   "metadata": {
    "id": "cVixn8NzsNPO"
   },
   "outputs": [],
   "source": [
    "model = LinearSVC(max_iter=2000,class_weight='balanced').fit(x_pbd_train,y_train)"
   ]
  },
  {
   "cell_type": "code",
   "execution_count": null,
   "metadata": {
    "id": "jnTdBt8Vs6u3"
   },
   "outputs": [],
   "source": [
    "y_pred = model.predict(x_pbd_test)"
   ]
  },
  {
   "cell_type": "code",
   "execution_count": null,
   "metadata": {
    "colab": {
     "base_uri": "https://localhost:8080/"
    },
    "id": "ivD2FDopuBWz",
    "outputId": "133ce72e-a62e-4c71-e5bc-610547c16787"
   },
   "outputs": [
    {
     "data": {
      "text/plain": [
       "0.5500142085819836"
      ]
     },
     "execution_count": 337,
     "metadata": {
      "tags": []
     },
     "output_type": "execute_result"
    }
   ],
   "source": [
    "f1_score(y_test, y_pred)"
   ]
  },
  {
   "cell_type": "code",
   "execution_count": null,
   "metadata": {
    "colab": {
     "base_uri": "https://localhost:8080/"
    },
    "id": "LMkWYuqbuF7I",
    "outputId": "eea2f0d1-b1c9-44d5-e94f-bf81f5e4cbb3"
   },
   "outputs": [
    {
     "data": {
      "text/plain": [
       "0.5243316311204566"
      ]
     },
     "execution_count": 338,
     "metadata": {
      "tags": []
     },
     "output_type": "execute_result"
    }
   ],
   "source": [
    "model.score(x_pbd_test,y_test)"
   ]
  },
  {
   "cell_type": "markdown",
   "metadata": {
    "id": "OEFoN8h58N6l"
   },
   "source": [
    "<br>"
   ]
  },
  {
   "cell_type": "markdown",
   "metadata": {
    "id": "5XWj3Ghv8OvI"
   },
   "source": [
    "### Random Forests"
   ]
  },
  {
   "cell_type": "code",
   "execution_count": null,
   "metadata": {
    "id": "A00DuonvyEcJ"
   },
   "outputs": [],
   "source": [
    " from sklearn.ensemble import RandomForestClassifier\n",
    "model = RandomForestClassifier(random_state=0,min_samples_leaf=2).fit(x_pbd_train,y_train)"
   ]
  },
  {
   "cell_type": "code",
   "execution_count": null,
   "metadata": {
    "id": "LRhh4D_iDz7w"
   },
   "outputs": [],
   "source": [
    "y_pred = model.predict(x_pbd_test)"
   ]
  },
  {
   "cell_type": "code",
   "execution_count": null,
   "metadata": {
    "colab": {
     "base_uri": "https://localhost:8080/"
    },
    "id": "ABsPbMQQD25T",
    "outputId": "7818937e-1c51-4a1d-d72b-626be97efb8c"
   },
   "outputs": [
    {
     "data": {
      "text/plain": [
       "0.6892353695002136"
      ]
     },
     "execution_count": 343,
     "metadata": {
      "tags": []
     },
     "output_type": "execute_result"
    }
   ],
   "source": [
    "f1_score(y_test, y_pred)"
   ]
  },
  {
   "cell_type": "code",
   "execution_count": null,
   "metadata": {
    "colab": {
     "base_uri": "https://localhost:8080/"
    },
    "id": "dyxPQyuSD36L",
    "outputId": "64afe707-3327-4fab-faec-9e7e3b363fda"
   },
   "outputs": [
    {
     "data": {
      "text/plain": [
       "0.5629318113547612"
      ]
     },
     "execution_count": 344,
     "metadata": {
      "tags": []
     },
     "output_type": "execute_result"
    }
   ],
   "source": [
    "model.score(x_pbd_test,y_test)"
   ]
  },
  {
   "cell_type": "markdown",
   "metadata": {
    "id": "s6XFtDq4p4ly"
   },
   "source": [
    "<br>"
   ]
  },
  {
   "cell_type": "markdown",
   "metadata": {
    "id": "pzbe7etRL6kO"
   },
   "source": [
    "<u>Performance annotations on opinion variables:</u><br><br>\n",
    "**sbeqsoc** -  BEST: Random Forests  - F1 0.586 / ACC 0.534<br>\n",
    "**sblazy** - BEST: Random Forests - F1 0.690 / ACC 0.563<br>\n",
    "**basinc** - BEST: Random Forests - F1 0.702 / ACC 0.593<br>\n",
    "**imueclt** - BEST: GAUSSIANNB - F1 0.594 / ACC 0.620<br>\n",
    "**imwbcnt** - BEST: GAUSSIANNB - F1 0.423 / ACC 0.653 <br>\n",
    "**freehms** - BEST: GAUSSIANNB - F1 0.446 / ACC 0.673"
   ]
  },
  {
   "cell_type": "markdown",
   "metadata": {
    "id": "g4GxSv40p6A9"
   },
   "source": [
    "<br>"
   ]
  },
  {
   "cell_type": "code",
   "execution_count": null,
   "metadata": {
    "id": "R10F127AP-fn"
   },
   "outputs": [],
   "source": [
    "perform = pd.DataFrame()"
   ]
  },
  {
   "cell_type": "code",
   "execution_count": null,
   "metadata": {
    "id": "Hd84jicCQrPf"
   },
   "outputs": [],
   "source": [
    "perform[\"op_var\"] = [\"sbeqsoc\",\"sblazy\",\"basinc\",\"imueclt\",\"imwbcnt\",\"freehms\"]\n",
    "perform[\"best_model\"] = [\"Random Forests\",\"Random Forests\",\"Random Forests\",\"GaussianNB\",\"GaussianNB\",\"GaussianNB\"]\n",
    "perform[\"f1\"] = [0.586,0.690,0.702,0.594,0.423,0.446]\n",
    "perform[\"acc\"] = [0.534,0.563,0.593,0.620,0.653,0.673]"
   ]
  },
  {
   "cell_type": "code",
   "execution_count": null,
   "metadata": {
    "colab": {
     "base_uri": "https://localhost:8080/",
     "height": 225
    },
    "id": "ID9PTo2hRSHr",
    "outputId": "93f8f4b2-4a25-4b80-86aa-054025ea27ce"
   },
   "outputs": [
    {
     "data": {
      "text/html": [
       "<div>\n",
       "<style scoped>\n",
       "    .dataframe tbody tr th:only-of-type {\n",
       "        vertical-align: middle;\n",
       "    }\n",
       "\n",
       "    .dataframe tbody tr th {\n",
       "        vertical-align: top;\n",
       "    }\n",
       "\n",
       "    .dataframe thead th {\n",
       "        text-align: right;\n",
       "    }\n",
       "</style>\n",
       "<table border=\"1\" class=\"dataframe\">\n",
       "  <thead>\n",
       "    <tr style=\"text-align: right;\">\n",
       "      <th></th>\n",
       "      <th>op_var</th>\n",
       "      <th>best_model</th>\n",
       "      <th>f1</th>\n",
       "      <th>acc</th>\n",
       "    </tr>\n",
       "  </thead>\n",
       "  <tbody>\n",
       "    <tr>\n",
       "      <th>0</th>\n",
       "      <td>sbeqsoc</td>\n",
       "      <td>Random Forests</td>\n",
       "      <td>0.586</td>\n",
       "      <td>0.534</td>\n",
       "    </tr>\n",
       "    <tr>\n",
       "      <th>1</th>\n",
       "      <td>sblazy</td>\n",
       "      <td>Random Forests</td>\n",
       "      <td>0.690</td>\n",
       "      <td>0.563</td>\n",
       "    </tr>\n",
       "    <tr>\n",
       "      <th>2</th>\n",
       "      <td>basinc</td>\n",
       "      <td>Random Forests</td>\n",
       "      <td>0.702</td>\n",
       "      <td>0.593</td>\n",
       "    </tr>\n",
       "    <tr>\n",
       "      <th>3</th>\n",
       "      <td>imueclt</td>\n",
       "      <td>GaussianNB</td>\n",
       "      <td>0.594</td>\n",
       "      <td>0.620</td>\n",
       "    </tr>\n",
       "    <tr>\n",
       "      <th>4</th>\n",
       "      <td>imwbcnt</td>\n",
       "      <td>GaussianNB</td>\n",
       "      <td>0.423</td>\n",
       "      <td>0.653</td>\n",
       "    </tr>\n",
       "    <tr>\n",
       "      <th>5</th>\n",
       "      <td>freehms</td>\n",
       "      <td>GaussianNB</td>\n",
       "      <td>0.446</td>\n",
       "      <td>0.673</td>\n",
       "    </tr>\n",
       "  </tbody>\n",
       "</table>\n",
       "</div>"
      ],
      "text/plain": [
       "    op_var      best_model     f1    acc\n",
       "0  sbeqsoc  Random Forests  0.586  0.534\n",
       "1   sblazy  Random Forests  0.690  0.563\n",
       "2   basinc  Random Forests  0.702  0.593\n",
       "3  imueclt      GaussianNB  0.594  0.620\n",
       "4  imwbcnt      GaussianNB  0.423  0.653\n",
       "5  freehms      GaussianNB  0.446  0.673"
      ]
     },
     "execution_count": 347,
     "metadata": {
      "tags": []
     },
     "output_type": "execute_result"
    }
   ],
   "source": [
    "perform"
   ]
  },
  {
   "cell_type": "code",
   "execution_count": null,
   "metadata": {
    "colab": {
     "base_uri": "https://localhost:8080/",
     "height": 538
    },
    "id": "89tTBEAJRTem",
    "outputId": "fcfbb83b-af65-4e76-e82b-bf2e707c7d75"
   },
   "outputs": [
    {
     "data": {
      "text/plain": [
       "Text(0, 0.5, 'F1 Score / Performance')"
      ]
     },
     "execution_count": 348,
     "metadata": {
      "tags": []
     },
     "output_type": "execute_result"
    },
    {
     "data": {
      "image/png": "[encoded data removed]",
      "text/plain": [
       "<Figure size 1008x576 with 1 Axes>"
      ]
     },
     "metadata": {
      "tags": []
     },
     "output_type": "display_data"
    }
   ],
   "source": [
    "plot_init()\n",
    "plt.title(\"Performance of generalised prediction models on opinion variables\")\n",
    "sns.barplot(x=\"op_var\", y=\"f1\", hue=\"best_model\",alpha=0.85, data=perform, palette=\"cool\")\n",
    "plt.bar(perform[\"op_var\"],perform[\"acc\"], width=0.1, color=\"red\", alpha=0.4, label=\"accuracy\")\n",
    "plt.axhline(np.mean(perform[\"f1\"]),linestyle=\"--\", color=\"grey\", alpha=0.7)\n",
    "plt.legend()\n",
    "plt.xlabel(\"Opinion Variables\")\n",
    "plt.ylabel(\"F1 Score / Performance\")"
   ]
  },
  {
   "cell_type": "markdown",
   "metadata": {
    "id": "7NsgyPdrCGUP"
   },
   "source": [
    "As shown, generalised classification models<sup>(*)</sup> can fairly predict a human position on a given subject based on the individual's psychographic baseline combined with some other sociodemographic information.\n",
    "\n",
    "<i>(*) Meaning that separate models have not been specifically optimised to predict exclusively just one position/opinion.</i>"
   ]
  },
  {
   "cell_type": "markdown",
   "metadata": {
    "id": "JJ_Z2F07K_gh"
   },
   "source": [
    "<br>"
   ]
  },
  {
   "cell_type": "markdown",
   "metadata": {
    "id": "Hp_q-AiuLAtF"
   },
   "source": [
    "## <b>Moving the human perspective</b>\n",
    "How can opinion be functionally manipulated? This could be straightforwardly done by simply reversing the way the previous prediction algorithms work. By tweaking the entry parameters, it is possible to get a specific desired output when you have an understanding of how each feature influences the final result."
   ]
  },
  {
   "cell_type": "markdown",
   "metadata": {
    "id": "v8HGDDUprOAS"
   },
   "source": [
    "<br>"
   ]
  },
  {
   "cell_type": "code",
   "execution_count": null,
   "metadata": {
    "id": "4jiY7ziRao6N"
   },
   "outputs": [],
   "source": [
    "cols = x_pbd_test.columns"
   ]
  },
  {
   "cell_type": "code",
   "execution_count": null,
   "metadata": {
    "id": "NW84zPMDrJ2p"
   },
   "outputs": [],
   "source": [
    "pos = 40 #experimental random-picked subject"
   ]
  },
  {
   "cell_type": "code",
   "execution_count": null,
   "metadata": {
    "id": "E61irKZVP_s0"
   },
   "outputs": [],
   "source": [
    "psc_chm = pd.DataFrame({\n",
    "    \"value\": x_pbd_test.iloc[pos][:20].tolist()},\n",
    "    index=x_pbd_test.columns.tolist()[:20])"
   ]
  },
  {
   "cell_type": "code",
   "execution_count": null,
   "metadata": {
    "colab": {
     "base_uri": "https://localhost:8080/",
     "height": 634
    },
    "id": "bMFHBcGZNMnV",
    "outputId": "570063eb-4a96-40a9-a377-6b7ba4516a48"
   },
   "outputs": [
    {
     "data": {
      "text/plain": [
       "<matplotlib.axes._subplots.AxesSubplot at 0x7f7fdf0fd350>"
      ]
     },
     "execution_count": 352,
     "metadata": {
      "tags": []
     },
     "output_type": "execute_result"
    },
    {
     "data": {
      "image/png": "[encoded data removed]",
      "text/plain": [
       "<Figure size 720x720 with 2 Axes>"
      ]
     },
     "metadata": {
      "tags": []
     },
     "output_type": "display_data"
    }
   ],
   "source": [
    "plt.figure(figsize=(10,10))\n",
    "plt.title(\"Subject Psychographic Configuration\")\n",
    "sns.heatmap(psc_chm, annot=True, cmap=[\"#eb2513\",\"#04bd5d\"])"
   ]
  },
  {
   "cell_type": "code",
   "execution_count": null,
   "metadata": {
    "id": "lmlDBD0hSTUz"
   },
   "outputs": [],
   "source": [
    "model = LinearSVC(max_iter=1000,class_weight='balanced',C=0.0001).fit(x_pbd_train,y_train)"
   ]
  },
  {
   "cell_type": "markdown",
   "metadata": {
    "id": "oFEuFC-jyaa7"
   },
   "source": [
    "For this purpose, I will employ LinearSVC model as it allows direct access to model coefficients through its class attribute."
   ]
  },
  {
   "cell_type": "code",
   "execution_count": null,
   "metadata": {
    "id": "0_-9F7iDx4mp"
   },
   "outputs": [],
   "source": [
    "yp_gen = model.predict(x_pbd_test)"
   ]
  },
  {
   "cell_type": "code",
   "execution_count": null,
   "metadata": {
    "colab": {
     "base_uri": "https://localhost:8080/"
    },
    "id": "J-dB_YitwW3V",
    "outputId": "0b553f02-0799-41b8-8451-8059d6e0d3ad"
   },
   "outputs": [
    {
     "data": {
      "text/plain": [
       "0.5701832050670844"
      ]
     },
     "execution_count": 355,
     "metadata": {
      "tags": []
     },
     "output_type": "execute_result"
    }
   ],
   "source": [
    "f1_score(y_test, yp_gen)"
   ]
  },
  {
   "cell_type": "code",
   "execution_count": null,
   "metadata": {
    "id": "BcMlpm9Fx8KD"
   },
   "outputs": [],
   "source": [
    "act_pred_compar = pd.DataFrame()\n",
    "act_pred_compar[\"act\"] = y_test\n",
    "act_pred_compar[\"pred\"] = yp_gen"
   ]
  },
  {
   "cell_type": "code",
   "execution_count": null,
   "metadata": {
    "colab": {
     "base_uri": "https://localhost:8080/",
     "height": 698
    },
    "id": "JL9zYDCsyMIr",
    "outputId": "b0319db5-e918-4126-9741-5625a1311c11"
   },
   "outputs": [
    {
     "name": "stderr",
     "output_type": "stream",
     "text": [
      "/usr/local/lib/python3.7/dist-packages/seaborn/distributions.py:1657: FutureWarning: The `bw` parameter is deprecated in favor of `bw_method` and `bw_adjust`. Using 0.6 for `bw_method`, but please see the docs for the new parameters and update your code.\n",
      "  warnings.warn(msg, FutureWarning)\n",
      "/usr/local/lib/python3.7/dist-packages/seaborn/distributions.py:1676: UserWarning: `shade_lowest` is now deprecated in favor of `thresh`. Setting `thresh=0`, but please update your code.\n",
      "  warnings.warn(msg, UserWarning)\n",
      "/usr/local/lib/python3.7/dist-packages/seaborn/distributions.py:1657: FutureWarning: The `bw` parameter is deprecated in favor of `bw_method` and `bw_adjust`. Using 0.6 for `bw_method`, but please see the docs for the new parameters and update your code.\n",
      "  warnings.warn(msg, FutureWarning)\n",
      "/usr/local/lib/python3.7/dist-packages/seaborn/distributions.py:1676: UserWarning: `shade_lowest` is now deprecated in favor of `thresh`. Setting `thresh=0`, but please update your code.\n",
      "  warnings.warn(msg, UserWarning)\n"
     ]
    },
    {
     "data": {
      "text/plain": [
       "<matplotlib.legend.Legend at 0x7f7fe2e61f50>"
      ]
     },
     "execution_count": 357,
     "metadata": {
      "tags": []
     },
     "output_type": "execute_result"
    },
    {
     "data": {
      "image/png": "[encoded data removed]",
      "text/plain": [
       "<Figure size 1008x576 with 1 Axes>"
      ]
     },
     "metadata": {
      "tags": []
     },
     "output_type": "display_data"
    }
   ],
   "source": [
    "plot_init()\n",
    "plt.title(\"Actual vs Predicted data distributions comparison\")\n",
    "sns.kdeplot(act_pred_compar[\"act\"], color=\"#32ff7e\", bw=0.6, alpha=1, label=\"Actual classes\")\n",
    "sns.kdeplot(act_pred_compar[\"pred\"], color=\"#ff3bfc\", shade=\"fill\", bw=0.6, alpha=0.4, label=\"Predicted classes\")\n",
    "\n",
    "\n",
    "plt.legend()"
   ]
  },
  {
   "cell_type": "code",
   "execution_count": null,
   "metadata": {
    "colab": {
     "base_uri": "https://localhost:8080/"
    },
    "id": "GPV1NNxaTUVM",
    "outputId": "cd503f80-dfad-4e2d-e8c6-69153feb2f11"
   },
   "outputs": [
    {
     "data": {
      "text/plain": [
       "array([[ 0.0544796 ,  0.03173435, -0.03950065, -0.00951535,  0.00987864,\n",
       "         0.01020022,  0.0248384 ,  0.0343831 , -0.0082078 , -0.00565437,\n",
       "        -0.00693705, -0.01017101,  0.02023916, -0.04002455,  0.01108707,\n",
       "         0.00948323,  0.030991  , -0.00084083,  0.01778343,  0.02407305,\n",
       "        -0.05244129,  0.024177  ]])"
      ]
     },
     "execution_count": 358,
     "metadata": {
      "tags": []
     },
     "output_type": "execute_result"
    }
   ],
   "source": [
    "model.coef_"
   ]
  },
  {
   "cell_type": "markdown",
   "metadata": {
    "id": "VAex0LjsrpAi"
   },
   "source": [
    "The model coefficients tell us how each variable affects and contributes to the opinion output."
   ]
  },
  {
   "cell_type": "code",
   "execution_count": null,
   "metadata": {
    "id": "W2f-l0KUmF8X"
   },
   "outputs": [],
   "source": [
    "sortedcoefs = sorted(model.coef_.reshape(-1,1).ravel().tolist())\n",
    "coefs_notord = model.coef_.reshape(-1,1).ravel().tolist()"
   ]
  },
  {
   "cell_type": "code",
   "execution_count": null,
   "metadata": {
    "colab": {
     "base_uri": "https://localhost:8080/"
    },
    "id": "o2inLo9YwkFY",
    "outputId": "8ecdd9c6-8bbd-4b0a-d34a-dfe24edf698b"
   },
   "outputs": [
    {
     "data": {
      "text/plain": [
       "1"
      ]
     },
     "execution_count": 360,
     "metadata": {
      "tags": []
     },
     "output_type": "execute_result"
    }
   ],
   "source": [
    "y_test[pos] #current opinion"
   ]
  },
  {
   "cell_type": "code",
   "execution_count": null,
   "metadata": {
    "id": "6L354h-zkxoh"
   },
   "outputs": [],
   "source": [
    "instance = np.array(x_pbd_test.iloc[pos])"
   ]
  },
  {
   "cell_type": "code",
   "execution_count": null,
   "metadata": {
    "colab": {
     "base_uri": "https://localhost:8080/"
    },
    "id": "ND0YUr2Gk84S",
    "outputId": "7307d7dd-1065-46a1-91c4-e20c9d7e2a62"
   },
   "outputs": [
    {
     "data": {
      "text/plain": [
       "array([1.        , 0.        , 0.        , 0.        , 0.        ,\n",
       "       0.        , 1.        , 0.        , 0.        , 0.        ,\n",
       "       0.        , 1.        , 0.        , 0.        , 0.        ,\n",
       "       0.        , 0.        , 0.        , 0.        , 0.        ,\n",
       "       1.45312899, 1.95824669])"
      ]
     },
     "execution_count": 362,
     "metadata": {
      "tags": []
     },
     "output_type": "execute_result"
    }
   ],
   "source": [
    "instance #subject's entry parameters"
   ]
  },
  {
   "cell_type": "code",
   "execution_count": null,
   "metadata": {
    "id": "wAUryGmmb0nN"
   },
   "outputs": [],
   "source": [
    "vcf = pd.DataFrame()\n",
    "vcf[\"cols\"] = cols\n",
    "vcf[\"coef\"] = model.coef_.reshape(1,-1)[0].tolist()"
   ]
  },
  {
   "cell_type": "code",
   "execution_count": null,
   "metadata": {
    "colab": {
     "base_uri": "https://localhost:8080/",
     "height": 538
    },
    "id": "L4sgf_Cgb-Ig",
    "outputId": "96004a06-4435-4526-ca5a-6f37f4648600"
   },
   "outputs": [
    {
     "data": {
      "text/plain": [
       "<matplotlib.legend.Legend at 0x7f7fdef7cd90>"
      ]
     },
     "execution_count": 364,
     "metadata": {
      "tags": []
     },
     "output_type": "execute_result"
    },
    {
     "data": {
      "image/png": "[encoded data removed]",
      "text/plain": [
       "<Figure size 1008x576 with 1 Axes>"
      ]
     },
     "metadata": {
      "tags": []
     },
     "output_type": "display_data"
    }
   ],
   "source": [
    "plot_init()\n",
    "sns.barplot(x=\"cols\",y=\"coef\", data=vcf, palette=\"coolwarm\", hue=\"coef\", dodge=False, alpha=0.8)\n",
    "\n",
    "plt.title(\"Model coefficients (y=sblazy)\")\n",
    "plt.legend([],[], frameon=False)"
   ]
  },
  {
   "cell_type": "markdown",
   "metadata": {
    "id": "zZvzrGk8iaIx"
   },
   "source": [
    "The model weights every psychographic variable by how they affect the output opinion. With this information, all that it's left to do is focus on which parameter tweak given the subject's current psychographic configuration to flip the output thought. In a real-world practical application, this could be done, for example, with propaganda and targeted advertising."
   ]
  },
  {
   "cell_type": "code",
   "execution_count": null,
   "metadata": {
    "colab": {
     "base_uri": "https://localhost:8080/",
     "height": 538
    },
    "id": "_jhzAUK3iG07",
    "outputId": "b8065e44-bc1d-4e47-e85a-5d8020639257"
   },
   "outputs": [
    {
     "data": {
      "text/plain": [
       "Text(0.5, 1.0, 'Model coefficients colored by instance data (y=sblazy)')"
      ]
     },
     "execution_count": 365,
     "metadata": {
      "tags": []
     },
     "output_type": "execute_result"
    },
    {
     "data": {
      "image/png": "[encoded data removed]",
      "text/plain": [
       "<Figure size 1008x576 with 1 Axes>"
      ]
     },
     "metadata": {
      "tags": []
     },
     "output_type": "display_data"
    }
   ],
   "source": [
    "plot_init()\n",
    "sns.barplot(x=\"cols\",y=\"coef\", data=vcf[:20], palette=\"Paired_r\", hue=instance[:20], dodge=True, alpha=0.8)\n",
    "\n",
    "plt.title(\"Model coefficients colored by instance data (y=sblazy)\")"
   ]
  },
  {
   "cell_type": "markdown",
   "metadata": {
    "id": "2VZPx43Cm2rp"
   },
   "source": [
    "Here, it can be seen that setting the impenv and ipudrst variables to 1 would fairly increase the chances of flipping the result as these are the negative coefficients that have the most impact on the classification, therefore, by increasing (in this case, swapping from 0 to 1) a negative coefficient, it will lean to the negative class. Let us also not forget that the eduyrs (total years of education) and age variables also influence the result, but these obviously cannot be changed, unlike the others. After flipping some instances, it can be seen that the opinion finally turned around to the negative class."
   ]
  },
  {
   "cell_type": "code",
   "execution_count": null,
   "metadata": {
    "id": "qhQjLDivnOyG"
   },
   "outputs": [],
   "source": [
    "from sklearn.calibration import CalibratedClassifierCV"
   ]
  },
  {
   "cell_type": "code",
   "execution_count": null,
   "metadata": {
    "id": "cSdB3z3GnQd3"
   },
   "outputs": [],
   "source": [
    "calib = CalibratedClassifierCV(model).fit(x_pbd_train,y_train)"
   ]
  },
  {
   "cell_type": "code",
   "execution_count": null,
   "metadata": {
    "id": "-yXZB0hOi8-1"
   },
   "outputs": [],
   "source": [
    "tp = instance.reshape(1,-1)"
   ]
  },
  {
   "cell_type": "code",
   "execution_count": null,
   "metadata": {
    "colab": {
     "base_uri": "https://localhost:8080/"
    },
    "id": "-wjOWBLmlIoY",
    "outputId": "ff3228f2-771a-4f32-b1c3-a7dc9fcf167b"
   },
   "outputs": [
    {
     "data": {
      "text/plain": [
       "1"
      ]
     },
     "execution_count": 369,
     "metadata": {
      "tags": []
     },
     "output_type": "execute_result"
    }
   ],
   "source": [
    "y_test[40] #actual opinion"
   ]
  },
  {
   "cell_type": "code",
   "execution_count": null,
   "metadata": {
    "colab": {
     "base_uri": "https://localhost:8080/"
    },
    "id": "LdcZE9Q3lJ2l",
    "outputId": "2760e78b-5a11-4f1b-e06d-5ed80b746bf6"
   },
   "outputs": [
    {
     "data": {
      "text/plain": [
       "array([1])"
      ]
     },
     "execution_count": 370,
     "metadata": {
      "tags": []
     },
     "output_type": "execute_result"
    }
   ],
   "source": [
    "model.predict(tp) #predicted opinion, matches the actual data"
   ]
  },
  {
   "cell_type": "code",
   "execution_count": null,
   "metadata": {
    "colab": {
     "base_uri": "https://localhost:8080/"
    },
    "id": "VSmH3h3-nWS9",
    "outputId": "ef464fee-937e-44d4-ae5b-12d084b26fbb"
   },
   "outputs": [
    {
     "data": {
      "text/plain": [
       "array([[0.4052898, 0.5947102]])"
      ]
     },
     "execution_count": 371,
     "metadata": {
      "tags": []
     },
     "output_type": "execute_result"
    }
   ],
   "source": [
    "calib.predict_proba(tp) #model class probabilities for opinion output"
   ]
  },
  {
   "cell_type": "code",
   "execution_count": null,
   "metadata": {
    "colab": {
     "base_uri": "https://localhost:8080/",
     "height": 578
    },
    "id": "UpldQmoowz7A",
    "outputId": "bee40f8c-c12d-4b74-c4e4-20ea109b732d"
   },
   "outputs": [
    {
     "name": "stderr",
     "output_type": "stream",
     "text": [
      "/usr/local/lib/python3.7/dist-packages/seaborn/_decorators.py:43: FutureWarning: Pass the following variables as keyword args: x, y. From version 0.12, the only valid positional argument will be `data`, and passing other arguments without an explicit keyword will result in an error or misinterpretation.\n",
      "  FutureWarning\n"
     ]
    },
    {
     "data": {
      "text/plain": [
       "Text(0.5, 1.0, 'Class Probabilities')"
      ]
     },
     "execution_count": 372,
     "metadata": {
      "tags": []
     },
     "output_type": "execute_result"
    },
    {
     "data": {
      "image/png": "[encoded data removed]",
      "text/plain": [
       "<Figure size 1008x576 with 1 Axes>"
      ]
     },
     "metadata": {
      "tags": []
     },
     "output_type": "display_data"
    }
   ],
   "source": [
    "plot_init()\n",
    "sns.barplot([0,1],[0.39762764, 0.60237236], palette=[\"#ff1100\",\"#00f00c\"], alpha=.80)\n",
    "plt.title(\"Class Probabilities\")"
   ]
  },
  {
   "cell_type": "markdown",
   "metadata": {
    "id": "PaA4nHSauPvO"
   },
   "source": [
    "Let's start by simply tweaking the <b>ipudrst</b> parameter."
   ]
  },
  {
   "cell_type": "code",
   "execution_count": null,
   "metadata": {
    "colab": {
     "base_uri": "https://localhost:8080/"
    },
    "id": "Fy_PeNL3nc4n",
    "outputId": "505465fa-6eef-4ca1-fe80-b5a016ac6829"
   },
   "outputs": [
    {
     "data": {
      "text/plain": [
       "13"
      ]
     },
     "execution_count": 373,
     "metadata": {
      "tags": []
     },
     "output_type": "execute_result"
    }
   ],
   "source": [
    "cols.tolist().index(\"ipudrst\")"
   ]
  },
  {
   "cell_type": "code",
   "execution_count": null,
   "metadata": {
    "id": "sSAfjgCcnn38"
   },
   "outputs": [],
   "source": [
    "tp2 = tp.reshape(-1,1)\n",
    "tp2[13] = 1\n",
    "\n",
    "tp2 = tp2.reshape(1,-1)"
   ]
  },
  {
   "cell_type": "code",
   "execution_count": null,
   "metadata": {
    "colab": {
     "base_uri": "https://localhost:8080/"
    },
    "id": "cAPyJdWznyUd",
    "outputId": "80286af4-8e72-4cec-dc61-95f4004ec0f5"
   },
   "outputs": [
    {
     "data": {
      "text/plain": [
       "array([[0.431976, 0.568024]])"
      ]
     },
     "execution_count": 375,
     "metadata": {
      "tags": []
     },
     "output_type": "execute_result"
    }
   ],
   "source": [
    "calib.predict_proba(tp2)"
   ]
  },
  {
   "cell_type": "markdown",
   "metadata": {
    "id": "kxEhZIr1ozy0"
   },
   "source": [
    "The probabilities have partially shifted into the negative class, but not enough. Now, let's also tweak the <b>impenv</b> variable."
   ]
  },
  {
   "cell_type": "code",
   "execution_count": null,
   "metadata": {
    "colab": {
     "base_uri": "https://localhost:8080/"
    },
    "id": "14hfvSy0oDm1",
    "outputId": "a4981ab0-d3be-4287-8f11-e4cb06ba84f6"
   },
   "outputs": [
    {
     "data": {
      "text/plain": [
       "2"
      ]
     },
     "execution_count": 376,
     "metadata": {
      "tags": []
     },
     "output_type": "execute_result"
    }
   ],
   "source": [
    "cols.tolist().index(\"impenv\")"
   ]
  },
  {
   "cell_type": "code",
   "execution_count": null,
   "metadata": {
    "id": "Clr9LCtVpHVz"
   },
   "outputs": [],
   "source": [
    "tp2 = tp.reshape(-1,1)\n",
    "tp2[2] = 1\n",
    "\n",
    "tp2 = tp2.reshape(1,-1)"
   ]
  },
  {
   "cell_type": "code",
   "execution_count": null,
   "metadata": {
    "colab": {
     "base_uri": "https://localhost:8080/"
    },
    "id": "ksd53Jt-pJcF",
    "outputId": "5dccf895-0208-48f5-f7a8-0f2be929f604"
   },
   "outputs": [
    {
     "data": {
      "text/plain": [
       "array([[0.45814598, 0.54185402]])"
      ]
     },
     "execution_count": 378,
     "metadata": {
      "tags": []
     },
     "output_type": "execute_result"
    }
   ],
   "source": [
    "calib.predict_proba(tp2)"
   ]
  },
  {
   "cell_type": "markdown",
   "metadata": {
    "id": "wInk5leTpNYP"
   },
   "source": [
    "Almost there, but still not enough, the classes are now balanced nearly a 50/50. One smart option would be to set the highest-impact positive-coefficient features to 0, so the negative class can take the reins."
   ]
  },
  {
   "cell_type": "code",
   "execution_count": null,
   "metadata": {
    "colab": {
     "base_uri": "https://localhost:8080/"
    },
    "id": "yCyED_YepicV",
    "outputId": "0159905e-0a62-41f3-82a3-6ce5e2eac2d4"
   },
   "outputs": [
    {
     "data": {
      "text/plain": [
       "0"
      ]
     },
     "execution_count": 379,
     "metadata": {
      "tags": []
     },
     "output_type": "execute_result"
    }
   ],
   "source": [
    "cols.tolist().index(\"impfun\")"
   ]
  },
  {
   "cell_type": "code",
   "execution_count": null,
   "metadata": {
    "colab": {
     "base_uri": "https://localhost:8080/"
    },
    "id": "87Gu97vHp1bs",
    "outputId": "099d9a70-95e6-4cf4-d5fe-5b13d331121f"
   },
   "outputs": [
    {
     "data": {
      "text/plain": [
       "6"
      ]
     },
     "execution_count": 380,
     "metadata": {
      "tags": []
     },
     "output_type": "execute_result"
    }
   ],
   "source": [
    "cols.tolist().index(\"ipadvnt\")"
   ]
  },
  {
   "cell_type": "code",
   "execution_count": null,
   "metadata": {
    "id": "XW6owAlWpmmM"
   },
   "outputs": [],
   "source": [
    "tp2 = tp.reshape(-1,1)\n",
    "tp2[0] = 0\n",
    "tp2[6] = 0\n",
    "\n",
    "tp2 = tp2.reshape(1,-1)"
   ]
  },
  {
   "cell_type": "code",
   "execution_count": null,
   "metadata": {
    "colab": {
     "base_uri": "https://localhost:8080/"
    },
    "id": "ZEYxQUVIppVh",
    "outputId": "cca9ad2b-73ac-4262-8a6c-d7e200f12c18"
   },
   "outputs": [
    {
     "data": {
      "text/plain": [
       "array([[0.5151295, 0.4848705]])"
      ]
     },
     "execution_count": 382,
     "metadata": {
      "tags": []
     },
     "output_type": "execute_result"
    }
   ],
   "source": [
    "calib.predict_proba(tp2)"
   ]
  },
  {
   "cell_type": "code",
   "execution_count": null,
   "metadata": {
    "id": "f7Sy41emusF_"
   },
   "outputs": [],
   "source": [
    "calib.predict(tp2)"
   ]
  },
  {
   "cell_type": "code",
   "execution_count": null,
   "metadata": {
    "colab": {
     "base_uri": "https://localhost:8080/",
     "height": 578
    },
    "id": "3G_B2GH4xWwH",
    "outputId": "307a0f92-badb-42db-f494-1e3703f2e11d"
   },
   "outputs": [
    {
     "name": "stderr",
     "output_type": "stream",
     "text": [
      "/usr/local/lib/python3.7/dist-packages/seaborn/_decorators.py:43: FutureWarning: Pass the following variables as keyword args: x, y. From version 0.12, the only valid positional argument will be `data`, and passing other arguments without an explicit keyword will result in an error or misinterpretation.\n",
      "  FutureWarning\n"
     ]
    },
    {
     "data": {
      "text/plain": [
       "Text(0.5, 1.0, 'Class Probabilities')"
      ]
     },
     "execution_count": 383,
     "metadata": {
      "tags": []
     },
     "output_type": "execute_result"
    },
    {
     "data": {
      "image/png": "[encoded data removed]",
      "text/plain": [
       "<Figure size 1008x576 with 1 Axes>"
      ]
     },
     "metadata": {
      "tags": []
     },
     "output_type": "display_data"
    }
   ],
   "source": [
    "plot_init()\n",
    "sns.barplot([0,1],[0.52989573, 0.47010427], palette=[\"#ff1100\",\"#00f00c\"], alpha=.80)\n",
    "plt.title(\"Class Probabilities\")"
   ]
  },
  {
   "cell_type": "code",
   "execution_count": null,
   "metadata": {
    "colab": {
     "base_uri": "https://localhost:8080/",
     "height": 538
    },
    "id": "QfC3jfXusHo6",
    "outputId": "dfd62f13-97d3-421e-8864-795a7dae76e9"
   },
   "outputs": [
    {
     "data": {
      "text/plain": [
       "Text(0.5, 1.0, 'Model coefficients colored by instance data (y=sblazy)')"
      ]
     },
     "execution_count": 384,
     "metadata": {
      "tags": []
     },
     "output_type": "execute_result"
    },
    {
     "data": {
      "image/png": "[encoded data removed]",
      "text/plain": [
       "<Figure size 1008x576 with 1 Axes>"
      ]
     },
     "metadata": {
      "tags": []
     },
     "output_type": "display_data"
    }
   ],
   "source": [
    "plot_init()\n",
    "sns.barplot(x=\"cols\",y=\"coef\", data=vcf[:20], palette=\"Paired_r\", hue=tp2.reshape(22,)[:20], dodge=True, alpha=0.8)\n",
    "\n",
    "plt.title(\"Model coefficients colored by instance data (y=sblazy)\")"
   ]
  },
  {
   "cell_type": "markdown",
   "metadata": {
    "id": "myVgFE_srDTM"
   },
   "source": [
    "With the help of the model, we were able to understand which beliefs to target in order to manipulate an opinion. Of course, the probabilities are still quite even, and it took a good effort to overturn them finally, so this person would be a \"robust subject\" given that manipulate its opinion isn't easy. Further tweaking could be executed in theory, but in practice, it would result in a problematic real-life implementation, so the wisest choice would be to give up this person in order to concentrate on more malleable subjects. This, always having in consideration the limited number of features selected for modelling, which have been constrained for the sake of simplicity."
   ]
  },
  {
   "cell_type": "code",
   "execution_count": null,
   "metadata": {
    "id": "IZmldqQzrBC1"
   },
   "outputs": [],
   "source": []
  }
 ],
 "metadata": {
  "colab": {
   "collapsed_sections": [],
   "name": "Social Perception -  Modelling.ipynb",
   "provenance": []
  },
  "kernelspec": {
   "display_name": "Python 3",
   "language": "python",
   "name": "python3"
  },
  "language_info": {
   "codemirror_mode": {
    "name": "ipython",
    "version": 3
   },
   "file_extension": ".py",
   "mimetype": "text/x-python",
   "name": "python",
   "nbconvert_exporter": "python",
   "pygments_lexer": "ipython3",
   "version": "3.8.5"
  }
 },
 "nbformat": 4,
 "nbformat_minor": 1
}
