{
  "nbformat": 4,
  "nbformat_minor": 0,
  "metadata": {
    "colab": {
      "name": "Social Perception -  Modelling.ipynb",
      "provenance": [],
      "collapsed_sections": []
    },
    "kernelspec": {
      "display_name": "Python 3",
      "name": "python3"
    }
  },
  "cells": [
    {
      "cell_type": "code",
      "metadata": {
        "id": "2s6X6ae-9IS6"
      },
      "source": [
        "import pandas as pd\n",
        "import numpy as np\n",
        "import matplotlib.pyplot as plt\n",
        "import seaborn as sns\n",
        "from urllib.request import Request, urlopen\n",
        "pd.options.mode.chained_assignment = None\n",
        "pd.set_option('display.max_colwidth', None)\n",
        "plt.style.use('classic')\n",
        "plt.style.use('seaborn-ticks')\n",
        "plt.style.use('seaborn-darkgrid')"
      ],
      "execution_count": null,
      "outputs": []
    },
    {
      "cell_type": "code",
      "metadata": {
        "id": "nerSSD6Ku9qL"
      },
      "source": [
        "%matplotlib inline\r\n",
        "plt.style.use(\"dark_background\")"
      ],
      "execution_count": null,
      "outputs": []
    },
    {
      "cell_type": "code",
      "metadata": {
        "id": "1IWBuFUP9sMc"
      },
      "source": [
        "#ESS Round 8: European Social Survey Round 8 Data (2016). Data file edition 2.1. NSD - Norwegian Centre for Research Data, Norway – Data Archive and distributor of ESS data for ESS ERIC. doi:10.21338/NSD-ESS8-2016.\n",
        "#Source Questionnaires at https://www.europeansocialsurvey.org/docs/round8/fieldwork/source/ESS8_source_questionnaires.pdf\n",
        "req = Request('http://ivanachille.com/publicdata/european-social-survey/processed/data_cleaned.csv')\n",
        "req2 = Request('http://ivanachille.com/publicdata/european-social-survey/processed/vars_cleaned.csv')\n",
        "req.add_header('User-Agent', 'Mozilla/5.0 (X11; Ubuntu; Linux x86_64; rv:77.0) Gecko/20100101 Firefox/77.0')\n",
        "req2.add_header('User-Agent', 'Mozilla/5.0 (X11; Ubuntu; Linux x86_64; rv:77.0) Gecko/20100101 Firefox/77.0')\n",
        "content = urlopen(req)\n",
        "content2 = urlopen(req2)\n",
        "\n",
        "data = pd.read_csv(content)\n",
        "vars = pd.read_csv(content2)"
      ],
      "execution_count": null,
      "outputs": []
    },
    {
      "cell_type": "code",
      "metadata": {
        "id": "7-bJHN6huarG"
      },
      "source": [
        "#temporary functions\n",
        "def spl(v):\n",
        "  return psvp_labels[psvp.index(v)]\n",
        "\n",
        "def SortedR2(var):\n",
        "  corrs = []\n",
        "  for i in range(len(psvp)):\n",
        "    cm = np.corrcoef(data[var],data[psvp[i]])**2\n",
        "    nm = psvp[i]\n",
        "    corrs.append([cm[0][1],nm])\n",
        "  a = sorted(corrs)\n",
        "  return a[::-1][:10]\n",
        "\n",
        "def plot_init():\n",
        "  return plt.figure(figsize=(14,8))\n",
        "\n",
        "def rev(data, high):\n",
        "  #high: highest rank within scale\n",
        "  #reverses scores of ranking-type data, convenient for data visualisation.\n",
        "    data = high - data\n",
        "    return data\n",
        "\n",
        "def SearchVar(name):\n",
        "  return vars[vars['Name']==name]\n",
        "\n",
        "def lb(label):\n",
        "  return vars[vars['Label']==label]['Name']"
      ],
      "execution_count": null,
      "outputs": []
    },
    {
      "cell_type": "markdown",
      "metadata": {
        "id": "TfFANJonTuCI"
      },
      "source": [
        "<br>"
      ]
    },
    {
      "cell_type": "markdown",
      "metadata": {
        "id": "Po1Nd8_Eas6j"
      },
      "source": [
        "# Case Study: Sociopolitical beliefs and opinion\n",
        "There are a lot of edges within the spectrum of populations' beliefs, these may be modelled and malleableized by different modelling functions applied to the underlying principles that social viewpoints emerge from."
      ]
    },
    {
      "cell_type": "code",
      "metadata": {
        "colab": {
          "base_uri": "https://localhost:8080/"
        },
        "id": "OtcMGeZ6c4Qo",
        "outputId": "b0dce67f-13f1-4d52-950a-fc4ace0b8b03"
      },
      "source": [
        "vars['Group'].unique()"
      ],
      "execution_count": null,
      "outputs": [
        {
          "output_type": "execute_result",
          "data": {
            "text/plain": [
              "array(['Group Country', 'Group Weights', 'Group Media and social trust',\n",
              "       'Group Climate change', 'Group Welfare attitudes',\n",
              "       'Group Human values', 'Group Politics',\n",
              "       'Group Subjective well-being, social exclusion, religion, national and ethnic identity',\n",
              "       'Group Socio-demographics',\n",
              "       'Group Gender, Year of birth and Household grid'], dtype=object)"
            ]
          },
          "metadata": {
            "tags": []
          },
          "execution_count": 5
        }
      ]
    },
    {
      "cell_type": "code",
      "metadata": {
        "id": "uzxhAhfNTXPu"
      },
      "source": [
        "sociodemographics = vars[vars['Group']=='Group Socio-demographics']['Name'].unique()"
      ],
      "execution_count": null,
      "outputs": []
    },
    {
      "cell_type": "code",
      "metadata": {
        "id": "Ly9yDKDhUsEy"
      },
      "source": [
        "beliefs_opinion = ['wrclmch','trstplt','freehms','ppltrst']"
      ],
      "execution_count": null,
      "outputs": []
    },
    {
      "cell_type": "code",
      "metadata": {
        "colab": {
          "base_uri": "https://localhost:8080/",
          "height": 127
        },
        "id": "TDVIGCMh8xmv",
        "outputId": "84a5936a-5a0a-4667-840b-4c83a05d2194"
      },
      "source": [
        "SearchVar(\"imueclt\")"
      ],
      "execution_count": null,
      "outputs": [
        {
          "output_type": "execute_result",
          "data": {
            "text/html": [
              "<div>\n",
              "<style scoped>\n",
              "    .dataframe tbody tr th:only-of-type {\n",
              "        vertical-align: middle;\n",
              "    }\n",
              "\n",
              "    .dataframe tbody tr th {\n",
              "        vertical-align: top;\n",
              "    }\n",
              "\n",
              "    .dataframe thead th {\n",
              "        text-align: right;\n",
              "    }\n",
              "</style>\n",
              "<table border=\"1\" class=\"dataframe\">\n",
              "  <thead>\n",
              "    <tr style=\"text-align: right;\">\n",
              "      <th></th>\n",
              "      <th>Unnamed: 0</th>\n",
              "      <th>Name</th>\n",
              "      <th>Label</th>\n",
              "      <th>Country_specific</th>\n",
              "      <th>Scale_type</th>\n",
              "      <th>Type</th>\n",
              "      <th>Format</th>\n",
              "      <th>Valid</th>\n",
              "      <th>Invalid</th>\n",
              "      <th>Question</th>\n",
              "      <th>Group</th>\n",
              "    </tr>\n",
              "  </thead>\n",
              "  <tbody>\n",
              "    <tr>\n",
              "      <th>135</th>\n",
              "      <td>99</td>\n",
              "      <td>imueclt</td>\n",
              "      <td>Country's cultural life undermined or enriched by immigrants</td>\n",
              "      <td>no</td>\n",
              "      <td>ordinal</td>\n",
              "      <td>discrete</td>\n",
              "      <td>numeric-2.0</td>\n",
              "      <td>42984</td>\n",
              "      <td>0</td>\n",
              "      <td>B42 And, using this card, would you say that [country]'s cultural life is generally undermined or enriched by people coming to live here from other countries?</td>\n",
              "      <td>Group Politics</td>\n",
              "    </tr>\n",
              "  </tbody>\n",
              "</table>\n",
              "</div>"
            ],
            "text/plain": [
              "     Unnamed: 0  ...           Group\n",
              "135          99  ...  Group Politics\n",
              "\n",
              "[1 rows x 11 columns]"
            ]
          },
          "metadata": {
            "tags": []
          },
          "execution_count": 8
        }
      ]
    },
    {
      "cell_type": "code",
      "metadata": {
        "colab": {
          "base_uri": "https://localhost:8080/"
        },
        "id": "86t1FedH800a",
        "outputId": "1bc74fc0-0b61-4d9f-d0bf-6e4d334bd364"
      },
      "source": [
        "set(data[\"sbeqsoc\"])"
      ],
      "execution_count": null,
      "outputs": [
        {
          "output_type": "execute_result",
          "data": {
            "text/plain": [
              "{1, 2, 3, 4, 5}"
            ]
          },
          "metadata": {
            "tags": []
          },
          "execution_count": 9
        }
      ]
    },
    {
      "cell_type": "markdown",
      "metadata": {
        "id": "m4_bOhk7Xp08"
      },
      "source": [
        "I will be using these variables for the sake of this case study. Also, I'm making use of, as a starting point, that beliefs and opinion can be split between soft and hard, being the first the one that it is to model for malleability purposes, and the latter being the \"fixed\" credence of the individuals determined mainly by sociodemographic/economic factors that also exert influence on psychographics, which leads to the certain tendencies they develop towards specific aims ."
      ]
    },
    {
      "cell_type": "code",
      "metadata": {
        "colab": {
          "base_uri": "https://localhost:8080/"
        },
        "id": "7pjWv7SDXX1Z",
        "outputId": "2792ef0c-f15f-4fac-c49d-2df384a21ae8"
      },
      "source": [
        "set(data['trstplt'])"
      ],
      "execution_count": null,
      "outputs": [
        {
          "output_type": "execute_result",
          "data": {
            "text/plain": [
              "{0, 1, 2, 3, 4, 5, 6, 7, 8, 9, 10}"
            ]
          },
          "metadata": {
            "tags": []
          },
          "execution_count": 10
        }
      ]
    },
    {
      "cell_type": "code",
      "metadata": {
        "colab": {
          "base_uri": "https://localhost:8080/"
        },
        "id": "IdWWwlV0tQdk",
        "outputId": "a29cb621-b231-42db-f7b0-3179ef75aaf2"
      },
      "source": [
        "sociodemographics"
      ],
      "execution_count": null,
      "outputs": [
        {
          "output_type": "execute_result",
          "data": {
            "text/plain": [
              "array(['lvgptnea', 'dvrcdeva', 'marsts', 'eduyrs', 'pdwrk', 'edctn',\n",
              "       'uempla', 'uempli', 'dsbld', 'rtrd', 'cmsrv', 'hswrk', 'dngoth',\n",
              "       'dngref', 'dngdk', 'dngna', 'icomdng', 'mainact', 'mnactic',\n",
              "       'icpdwrk', 'crpdwk', 'pdjobev', 'pdjobyr', 'emplrel', 'emplno',\n",
              "       'wrkctra', 'estsz', 'jbspv', 'njbspv', 'wkdcorga', 'iorgact',\n",
              "       'wkhct', 'icwhct', 'wkhtot', 'nacer2', 'tporgwk', 'isco08',\n",
              "       'wrkac6m', 'uemp3m', 'uemp12m', 'uemp5yr', 'mbtru', 'hincsrca',\n",
              "       'hinctnta', 'hincfel', 'edulvlb'], dtype=object)"
            ]
          },
          "metadata": {
            "tags": []
          },
          "execution_count": 11
        }
      ]
    },
    {
      "cell_type": "code",
      "metadata": {
        "id": "nrcherB_S_wA"
      },
      "source": [
        "def trf(rcl,pos):\r\n",
        "  if rcl.iloc[pos]<=3:\r\n",
        "    return 0\r\n",
        "  if rcl.iloc[pos]>=4:\r\n",
        "    return 1"
      ],
      "execution_count": null,
      "outputs": []
    },
    {
      "cell_type": "code",
      "metadata": {
        "id": "2VgNwWJiVvI3"
      },
      "source": [
        "psy_vars =  ['impfun','imptrad','impenv','iplylfr','iprspot','ipbhprp','ipadvnt','ipstrgv',\r\n",
        "                'ipsuces','iphlppl','impfree','ipgdtim','ipmodst','ipudrst','ipfrule','impdiff','impsafe','ipshabt','imprich','ipcrtiv']"
      ],
      "execution_count": null,
      "outputs": []
    },
    {
      "cell_type": "code",
      "metadata": {
        "id": "BYIMRiuQV3W2"
      },
      "source": [
        "dss = data[psy_vars]"
      ],
      "execution_count": null,
      "outputs": []
    },
    {
      "cell_type": "code",
      "metadata": {
        "id": "a1I1onPuWkX9"
      },
      "source": [
        "psychographics_binarized_data = pd.DataFrame()"
      ],
      "execution_count": null,
      "outputs": []
    },
    {
      "cell_type": "code",
      "metadata": {
        "id": "i_PJD6TiWURw"
      },
      "source": [
        "for i in range(len(psy_vars)):\r\n",
        "  psv = psy_vars[i]\r\n",
        "  psychographics_binarized_data[psv] = [trf(dss[psv],i) for i in range(len(dss))] #constraints data to binary output"
      ],
      "execution_count": null,
      "outputs": []
    },
    {
      "cell_type": "code",
      "metadata": {
        "id": "JF_h3lnpFC1D"
      },
      "source": [
        "to_transform = np.array( data[\"agea\"]  ).reshape(-1,1)\r\n",
        "age_scaled = to_transform/(2*(np.std(to_transform)))\r\n",
        "psychographics_binarized_data[\"age\"] = age_scaled\r\n",
        "\r\n",
        "to_transform = np.array( data[\"eduyrs\"]  ).reshape(-1,1)\r\n",
        "eduyrs_scaled = to_transform/(2*(np.std(to_transform)))\r\n",
        "psychographics_binarized_data[\"eduyrs\"] = eduyrs_scaled\r\n",
        "\r\n",
        "#scale numeric data by dividing by two stds in order to put them in the approximately same scale as 0/1 variables."
      ],
      "execution_count": null,
      "outputs": []
    },
    {
      "cell_type": "code",
      "metadata": {
        "id": "I5IK8Nm0pu4d"
      },
      "source": [
        ""
      ],
      "execution_count": null,
      "outputs": []
    },
    {
      "cell_type": "code",
      "metadata": {
        "colab": {
          "base_uri": "https://localhost:8080/",
          "height": 402
        },
        "id": "39ve4O51peig",
        "outputId": "e5e8733c-69b3-44eb-e9d4-22a9e333725a"
      },
      "source": [
        "dss"
      ],
      "execution_count": null,
      "outputs": [
        {
          "output_type": "execute_result",
          "data": {
            "text/html": [
              "<div>\n",
              "<style scoped>\n",
              "    .dataframe tbody tr th:only-of-type {\n",
              "        vertical-align: middle;\n",
              "    }\n",
              "\n",
              "    .dataframe tbody tr th {\n",
              "        vertical-align: top;\n",
              "    }\n",
              "\n",
              "    .dataframe thead th {\n",
              "        text-align: right;\n",
              "    }\n",
              "</style>\n",
              "<table border=\"1\" class=\"dataframe\">\n",
              "  <thead>\n",
              "    <tr style=\"text-align: right;\">\n",
              "      <th></th>\n",
              "      <th>impfun</th>\n",
              "      <th>imptrad</th>\n",
              "      <th>impenv</th>\n",
              "      <th>iplylfr</th>\n",
              "      <th>iprspot</th>\n",
              "      <th>ipbhprp</th>\n",
              "      <th>ipadvnt</th>\n",
              "      <th>ipstrgv</th>\n",
              "      <th>ipsuces</th>\n",
              "      <th>iphlppl</th>\n",
              "      <th>impfree</th>\n",
              "      <th>ipgdtim</th>\n",
              "      <th>ipmodst</th>\n",
              "      <th>ipudrst</th>\n",
              "      <th>ipfrule</th>\n",
              "      <th>impdiff</th>\n",
              "      <th>impsafe</th>\n",
              "      <th>ipshabt</th>\n",
              "      <th>imprich</th>\n",
              "      <th>ipcrtiv</th>\n",
              "    </tr>\n",
              "  </thead>\n",
              "  <tbody>\n",
              "    <tr>\n",
              "      <th>0</th>\n",
              "      <td>3</td>\n",
              "      <td>6</td>\n",
              "      <td>1</td>\n",
              "      <td>1</td>\n",
              "      <td>1</td>\n",
              "      <td>6</td>\n",
              "      <td>3</td>\n",
              "      <td>6</td>\n",
              "      <td>2</td>\n",
              "      <td>1</td>\n",
              "      <td>3</td>\n",
              "      <td>4</td>\n",
              "      <td>2</td>\n",
              "      <td>1</td>\n",
              "      <td>5</td>\n",
              "      <td>3</td>\n",
              "      <td>2</td>\n",
              "      <td>2</td>\n",
              "      <td>6</td>\n",
              "      <td>2</td>\n",
              "    </tr>\n",
              "    <tr>\n",
              "      <th>1</th>\n",
              "      <td>5</td>\n",
              "      <td>5</td>\n",
              "      <td>2</td>\n",
              "      <td>2</td>\n",
              "      <td>2</td>\n",
              "      <td>5</td>\n",
              "      <td>5</td>\n",
              "      <td>4</td>\n",
              "      <td>3</td>\n",
              "      <td>3</td>\n",
              "      <td>2</td>\n",
              "      <td>3</td>\n",
              "      <td>4</td>\n",
              "      <td>3</td>\n",
              "      <td>5</td>\n",
              "      <td>3</td>\n",
              "      <td>5</td>\n",
              "      <td>3</td>\n",
              "      <td>6</td>\n",
              "      <td>3</td>\n",
              "    </tr>\n",
              "    <tr>\n",
              "      <th>2</th>\n",
              "      <td>3</td>\n",
              "      <td>2</td>\n",
              "      <td>2</td>\n",
              "      <td>1</td>\n",
              "      <td>3</td>\n",
              "      <td>3</td>\n",
              "      <td>6</td>\n",
              "      <td>1</td>\n",
              "      <td>6</td>\n",
              "      <td>3</td>\n",
              "      <td>2</td>\n",
              "      <td>2</td>\n",
              "      <td>3</td>\n",
              "      <td>2</td>\n",
              "      <td>5</td>\n",
              "      <td>6</td>\n",
              "      <td>1</td>\n",
              "      <td>4</td>\n",
              "      <td>5</td>\n",
              "      <td>3</td>\n",
              "    </tr>\n",
              "    <tr>\n",
              "      <th>3</th>\n",
              "      <td>2</td>\n",
              "      <td>2</td>\n",
              "      <td>3</td>\n",
              "      <td>2</td>\n",
              "      <td>2</td>\n",
              "      <td>4</td>\n",
              "      <td>3</td>\n",
              "      <td>2</td>\n",
              "      <td>3</td>\n",
              "      <td>3</td>\n",
              "      <td>2</td>\n",
              "      <td>2</td>\n",
              "      <td>2</td>\n",
              "      <td>2</td>\n",
              "      <td>3</td>\n",
              "      <td>3</td>\n",
              "      <td>2</td>\n",
              "      <td>2</td>\n",
              "      <td>3</td>\n",
              "      <td>2</td>\n",
              "    </tr>\n",
              "    <tr>\n",
              "      <th>4</th>\n",
              "      <td>1</td>\n",
              "      <td>4</td>\n",
              "      <td>1</td>\n",
              "      <td>1</td>\n",
              "      <td>3</td>\n",
              "      <td>2</td>\n",
              "      <td>5</td>\n",
              "      <td>4</td>\n",
              "      <td>3</td>\n",
              "      <td>1</td>\n",
              "      <td>1</td>\n",
              "      <td>1</td>\n",
              "      <td>1</td>\n",
              "      <td>3</td>\n",
              "      <td>5</td>\n",
              "      <td>3</td>\n",
              "      <td>3</td>\n",
              "      <td>4</td>\n",
              "      <td>4</td>\n",
              "      <td>3</td>\n",
              "    </tr>\n",
              "    <tr>\n",
              "      <th>...</th>\n",
              "      <td>...</td>\n",
              "      <td>...</td>\n",
              "      <td>...</td>\n",
              "      <td>...</td>\n",
              "      <td>...</td>\n",
              "      <td>...</td>\n",
              "      <td>...</td>\n",
              "      <td>...</td>\n",
              "      <td>...</td>\n",
              "      <td>...</td>\n",
              "      <td>...</td>\n",
              "      <td>...</td>\n",
              "      <td>...</td>\n",
              "      <td>...</td>\n",
              "      <td>...</td>\n",
              "      <td>...</td>\n",
              "      <td>...</td>\n",
              "      <td>...</td>\n",
              "      <td>...</td>\n",
              "      <td>...</td>\n",
              "    </tr>\n",
              "    <tr>\n",
              "      <th>44382</th>\n",
              "      <td>1</td>\n",
              "      <td>1</td>\n",
              "      <td>2</td>\n",
              "      <td>1</td>\n",
              "      <td>2</td>\n",
              "      <td>2</td>\n",
              "      <td>1</td>\n",
              "      <td>1</td>\n",
              "      <td>1</td>\n",
              "      <td>1</td>\n",
              "      <td>1</td>\n",
              "      <td>1</td>\n",
              "      <td>2</td>\n",
              "      <td>4</td>\n",
              "      <td>5</td>\n",
              "      <td>1</td>\n",
              "      <td>1</td>\n",
              "      <td>2</td>\n",
              "      <td>2</td>\n",
              "      <td>1</td>\n",
              "    </tr>\n",
              "    <tr>\n",
              "      <th>44383</th>\n",
              "      <td>2</td>\n",
              "      <td>1</td>\n",
              "      <td>1</td>\n",
              "      <td>1</td>\n",
              "      <td>2</td>\n",
              "      <td>1</td>\n",
              "      <td>4</td>\n",
              "      <td>1</td>\n",
              "      <td>1</td>\n",
              "      <td>1</td>\n",
              "      <td>1</td>\n",
              "      <td>3</td>\n",
              "      <td>3</td>\n",
              "      <td>2</td>\n",
              "      <td>2</td>\n",
              "      <td>3</td>\n",
              "      <td>2</td>\n",
              "      <td>2</td>\n",
              "      <td>4</td>\n",
              "      <td>1</td>\n",
              "    </tr>\n",
              "    <tr>\n",
              "      <th>44384</th>\n",
              "      <td>5</td>\n",
              "      <td>2</td>\n",
              "      <td>1</td>\n",
              "      <td>2</td>\n",
              "      <td>1</td>\n",
              "      <td>1</td>\n",
              "      <td>4</td>\n",
              "      <td>2</td>\n",
              "      <td>2</td>\n",
              "      <td>2</td>\n",
              "      <td>1</td>\n",
              "      <td>4</td>\n",
              "      <td>1</td>\n",
              "      <td>2</td>\n",
              "      <td>1</td>\n",
              "      <td>2</td>\n",
              "      <td>1</td>\n",
              "      <td>1</td>\n",
              "      <td>6</td>\n",
              "      <td>2</td>\n",
              "    </tr>\n",
              "    <tr>\n",
              "      <th>44385</th>\n",
              "      <td>1</td>\n",
              "      <td>4</td>\n",
              "      <td>2</td>\n",
              "      <td>3</td>\n",
              "      <td>1</td>\n",
              "      <td>3</td>\n",
              "      <td>2</td>\n",
              "      <td>1</td>\n",
              "      <td>1</td>\n",
              "      <td>1</td>\n",
              "      <td>1</td>\n",
              "      <td>1</td>\n",
              "      <td>2</td>\n",
              "      <td>2</td>\n",
              "      <td>5</td>\n",
              "      <td>1</td>\n",
              "      <td>2</td>\n",
              "      <td>2</td>\n",
              "      <td>3</td>\n",
              "      <td>2</td>\n",
              "    </tr>\n",
              "    <tr>\n",
              "      <th>44386</th>\n",
              "      <td>3</td>\n",
              "      <td>3</td>\n",
              "      <td>4</td>\n",
              "      <td>3</td>\n",
              "      <td>3</td>\n",
              "      <td>2</td>\n",
              "      <td>2</td>\n",
              "      <td>4</td>\n",
              "      <td>4</td>\n",
              "      <td>2</td>\n",
              "      <td>2</td>\n",
              "      <td>3</td>\n",
              "      <td>3</td>\n",
              "      <td>4</td>\n",
              "      <td>5</td>\n",
              "      <td>3</td>\n",
              "      <td>4</td>\n",
              "      <td>3</td>\n",
              "      <td>5</td>\n",
              "      <td>3</td>\n",
              "    </tr>\n",
              "  </tbody>\n",
              "</table>\n",
              "<p>44387 rows × 20 columns</p>\n",
              "</div>"
            ],
            "text/plain": [
              "       impfun  imptrad  impenv  iplylfr  ...  impsafe  ipshabt  imprich  ipcrtiv\n",
              "0           3        6       1        1  ...        2        2        6        2\n",
              "1           5        5       2        2  ...        5        3        6        3\n",
              "2           3        2       2        1  ...        1        4        5        3\n",
              "3           2        2       3        2  ...        2        2        3        2\n",
              "4           1        4       1        1  ...        3        4        4        3\n",
              "...       ...      ...     ...      ...  ...      ...      ...      ...      ...\n",
              "44382       1        1       2        1  ...        1        2        2        1\n",
              "44383       2        1       1        1  ...        2        2        4        1\n",
              "44384       5        2       1        2  ...        1        1        6        2\n",
              "44385       1        4       2        3  ...        2        2        3        2\n",
              "44386       3        3       4        3  ...        4        3        5        3\n",
              "\n",
              "[44387 rows x 20 columns]"
            ]
          },
          "metadata": {
            "tags": []
          },
          "execution_count": 18
        }
      ]
    },
    {
      "cell_type": "code",
      "metadata": {
        "colab": {
          "base_uri": "https://localhost:8080/",
          "height": 422
        },
        "id": "lg-4VqbhVcuL",
        "outputId": "f0031d55-9fd4-40f2-fc64-3c1316993f8a"
      },
      "source": [
        "psychographics_binarized_data"
      ],
      "execution_count": null,
      "outputs": [
        {
          "output_type": "execute_result",
          "data": {
            "text/html": [
              "<div>\n",
              "<style scoped>\n",
              "    .dataframe tbody tr th:only-of-type {\n",
              "        vertical-align: middle;\n",
              "    }\n",
              "\n",
              "    .dataframe tbody tr th {\n",
              "        vertical-align: top;\n",
              "    }\n",
              "\n",
              "    .dataframe thead th {\n",
              "        text-align: right;\n",
              "    }\n",
              "</style>\n",
              "<table border=\"1\" class=\"dataframe\">\n",
              "  <thead>\n",
              "    <tr style=\"text-align: right;\">\n",
              "      <th></th>\n",
              "      <th>impfun</th>\n",
              "      <th>imptrad</th>\n",
              "      <th>impenv</th>\n",
              "      <th>iplylfr</th>\n",
              "      <th>iprspot</th>\n",
              "      <th>ipbhprp</th>\n",
              "      <th>ipadvnt</th>\n",
              "      <th>ipstrgv</th>\n",
              "      <th>ipsuces</th>\n",
              "      <th>iphlppl</th>\n",
              "      <th>impfree</th>\n",
              "      <th>ipgdtim</th>\n",
              "      <th>ipmodst</th>\n",
              "      <th>ipudrst</th>\n",
              "      <th>ipfrule</th>\n",
              "      <th>impdiff</th>\n",
              "      <th>impsafe</th>\n",
              "      <th>ipshabt</th>\n",
              "      <th>imprich</th>\n",
              "      <th>ipcrtiv</th>\n",
              "      <th>age</th>\n",
              "      <th>eduyrs</th>\n",
              "    </tr>\n",
              "  </thead>\n",
              "  <tbody>\n",
              "    <tr>\n",
              "      <th>0</th>\n",
              "      <td>0</td>\n",
              "      <td>1</td>\n",
              "      <td>0</td>\n",
              "      <td>0</td>\n",
              "      <td>0</td>\n",
              "      <td>1</td>\n",
              "      <td>0</td>\n",
              "      <td>1</td>\n",
              "      <td>0</td>\n",
              "      <td>0</td>\n",
              "      <td>0</td>\n",
              "      <td>1</td>\n",
              "      <td>0</td>\n",
              "      <td>0</td>\n",
              "      <td>1</td>\n",
              "      <td>0</td>\n",
              "      <td>0</td>\n",
              "      <td>0</td>\n",
              "      <td>1</td>\n",
              "      <td>0</td>\n",
              "      <td>0.914933</td>\n",
              "      <td>2.741545</td>\n",
              "    </tr>\n",
              "    <tr>\n",
              "      <th>1</th>\n",
              "      <td>1</td>\n",
              "      <td>1</td>\n",
              "      <td>0</td>\n",
              "      <td>0</td>\n",
              "      <td>0</td>\n",
              "      <td>1</td>\n",
              "      <td>1</td>\n",
              "      <td>1</td>\n",
              "      <td>0</td>\n",
              "      <td>0</td>\n",
              "      <td>0</td>\n",
              "      <td>0</td>\n",
              "      <td>1</td>\n",
              "      <td>0</td>\n",
              "      <td>1</td>\n",
              "      <td>0</td>\n",
              "      <td>1</td>\n",
              "      <td>0</td>\n",
              "      <td>1</td>\n",
              "      <td>0</td>\n",
              "      <td>1.399309</td>\n",
              "      <td>2.088796</td>\n",
              "    </tr>\n",
              "    <tr>\n",
              "      <th>2</th>\n",
              "      <td>0</td>\n",
              "      <td>0</td>\n",
              "      <td>0</td>\n",
              "      <td>0</td>\n",
              "      <td>0</td>\n",
              "      <td>0</td>\n",
              "      <td>1</td>\n",
              "      <td>0</td>\n",
              "      <td>1</td>\n",
              "      <td>0</td>\n",
              "      <td>0</td>\n",
              "      <td>0</td>\n",
              "      <td>0</td>\n",
              "      <td>0</td>\n",
              "      <td>1</td>\n",
              "      <td>1</td>\n",
              "      <td>0</td>\n",
              "      <td>1</td>\n",
              "      <td>1</td>\n",
              "      <td>0</td>\n",
              "      <td>1.829866</td>\n",
              "      <td>1.697147</td>\n",
              "    </tr>\n",
              "    <tr>\n",
              "      <th>3</th>\n",
              "      <td>0</td>\n",
              "      <td>0</td>\n",
              "      <td>0</td>\n",
              "      <td>0</td>\n",
              "      <td>0</td>\n",
              "      <td>1</td>\n",
              "      <td>0</td>\n",
              "      <td>0</td>\n",
              "      <td>0</td>\n",
              "      <td>0</td>\n",
              "      <td>0</td>\n",
              "      <td>0</td>\n",
              "      <td>0</td>\n",
              "      <td>0</td>\n",
              "      <td>0</td>\n",
              "      <td>0</td>\n",
              "      <td>0</td>\n",
              "      <td>0</td>\n",
              "      <td>0</td>\n",
              "      <td>0</td>\n",
              "      <td>1.453129</td>\n",
              "      <td>1.566597</td>\n",
              "    </tr>\n",
              "    <tr>\n",
              "      <th>4</th>\n",
              "      <td>0</td>\n",
              "      <td>1</td>\n",
              "      <td>0</td>\n",
              "      <td>0</td>\n",
              "      <td>0</td>\n",
              "      <td>0</td>\n",
              "      <td>1</td>\n",
              "      <td>1</td>\n",
              "      <td>0</td>\n",
              "      <td>0</td>\n",
              "      <td>0</td>\n",
              "      <td>0</td>\n",
              "      <td>0</td>\n",
              "      <td>0</td>\n",
              "      <td>1</td>\n",
              "      <td>0</td>\n",
              "      <td>0</td>\n",
              "      <td>1</td>\n",
              "      <td>1</td>\n",
              "      <td>0</td>\n",
              "      <td>0.538196</td>\n",
              "      <td>1.697147</td>\n",
              "    </tr>\n",
              "    <tr>\n",
              "      <th>...</th>\n",
              "      <td>...</td>\n",
              "      <td>...</td>\n",
              "      <td>...</td>\n",
              "      <td>...</td>\n",
              "      <td>...</td>\n",
              "      <td>...</td>\n",
              "      <td>...</td>\n",
              "      <td>...</td>\n",
              "      <td>...</td>\n",
              "      <td>...</td>\n",
              "      <td>...</td>\n",
              "      <td>...</td>\n",
              "      <td>...</td>\n",
              "      <td>...</td>\n",
              "      <td>...</td>\n",
              "      <td>...</td>\n",
              "      <td>...</td>\n",
              "      <td>...</td>\n",
              "      <td>...</td>\n",
              "      <td>...</td>\n",
              "      <td>...</td>\n",
              "      <td>...</td>\n",
              "    </tr>\n",
              "    <tr>\n",
              "      <th>44382</th>\n",
              "      <td>0</td>\n",
              "      <td>0</td>\n",
              "      <td>0</td>\n",
              "      <td>0</td>\n",
              "      <td>0</td>\n",
              "      <td>0</td>\n",
              "      <td>0</td>\n",
              "      <td>0</td>\n",
              "      <td>0</td>\n",
              "      <td>0</td>\n",
              "      <td>0</td>\n",
              "      <td>0</td>\n",
              "      <td>0</td>\n",
              "      <td>1</td>\n",
              "      <td>1</td>\n",
              "      <td>0</td>\n",
              "      <td>0</td>\n",
              "      <td>0</td>\n",
              "      <td>0</td>\n",
              "      <td>0</td>\n",
              "      <td>1.749137</td>\n",
              "      <td>1.566597</td>\n",
              "    </tr>\n",
              "    <tr>\n",
              "      <th>44383</th>\n",
              "      <td>0</td>\n",
              "      <td>0</td>\n",
              "      <td>0</td>\n",
              "      <td>0</td>\n",
              "      <td>0</td>\n",
              "      <td>0</td>\n",
              "      <td>1</td>\n",
              "      <td>0</td>\n",
              "      <td>0</td>\n",
              "      <td>0</td>\n",
              "      <td>0</td>\n",
              "      <td>0</td>\n",
              "      <td>0</td>\n",
              "      <td>0</td>\n",
              "      <td>0</td>\n",
              "      <td>0</td>\n",
              "      <td>0</td>\n",
              "      <td>0</td>\n",
              "      <td>1</td>\n",
              "      <td>0</td>\n",
              "      <td>1.076392</td>\n",
              "      <td>2.088796</td>\n",
              "    </tr>\n",
              "    <tr>\n",
              "      <th>44384</th>\n",
              "      <td>1</td>\n",
              "      <td>0</td>\n",
              "      <td>0</td>\n",
              "      <td>0</td>\n",
              "      <td>0</td>\n",
              "      <td>0</td>\n",
              "      <td>1</td>\n",
              "      <td>0</td>\n",
              "      <td>0</td>\n",
              "      <td>0</td>\n",
              "      <td>0</td>\n",
              "      <td>1</td>\n",
              "      <td>0</td>\n",
              "      <td>0</td>\n",
              "      <td>0</td>\n",
              "      <td>0</td>\n",
              "      <td>0</td>\n",
              "      <td>0</td>\n",
              "      <td>1</td>\n",
              "      <td>0</td>\n",
              "      <td>1.695317</td>\n",
              "      <td>2.219346</td>\n",
              "    </tr>\n",
              "    <tr>\n",
              "      <th>44385</th>\n",
              "      <td>0</td>\n",
              "      <td>1</td>\n",
              "      <td>0</td>\n",
              "      <td>0</td>\n",
              "      <td>0</td>\n",
              "      <td>0</td>\n",
              "      <td>0</td>\n",
              "      <td>0</td>\n",
              "      <td>0</td>\n",
              "      <td>0</td>\n",
              "      <td>0</td>\n",
              "      <td>0</td>\n",
              "      <td>0</td>\n",
              "      <td>0</td>\n",
              "      <td>1</td>\n",
              "      <td>0</td>\n",
              "      <td>0</td>\n",
              "      <td>0</td>\n",
              "      <td>0</td>\n",
              "      <td>0</td>\n",
              "      <td>1.210941</td>\n",
              "      <td>2.349896</td>\n",
              "    </tr>\n",
              "    <tr>\n",
              "      <th>44386</th>\n",
              "      <td>0</td>\n",
              "      <td>0</td>\n",
              "      <td>1</td>\n",
              "      <td>0</td>\n",
              "      <td>0</td>\n",
              "      <td>0</td>\n",
              "      <td>0</td>\n",
              "      <td>1</td>\n",
              "      <td>1</td>\n",
              "      <td>0</td>\n",
              "      <td>0</td>\n",
              "      <td>0</td>\n",
              "      <td>0</td>\n",
              "      <td>1</td>\n",
              "      <td>1</td>\n",
              "      <td>0</td>\n",
              "      <td>1</td>\n",
              "      <td>0</td>\n",
              "      <td>1</td>\n",
              "      <td>0</td>\n",
              "      <td>1.372400</td>\n",
              "      <td>1.436048</td>\n",
              "    </tr>\n",
              "  </tbody>\n",
              "</table>\n",
              "<p>44387 rows × 22 columns</p>\n",
              "</div>"
            ],
            "text/plain": [
              "       impfun  imptrad  impenv  iplylfr  ...  imprich  ipcrtiv       age    eduyrs\n",
              "0           0        1       0        0  ...        1        0  0.914933  2.741545\n",
              "1           1        1       0        0  ...        1        0  1.399309  2.088796\n",
              "2           0        0       0        0  ...        1        0  1.829866  1.697147\n",
              "3           0        0       0        0  ...        0        0  1.453129  1.566597\n",
              "4           0        1       0        0  ...        1        0  0.538196  1.697147\n",
              "...       ...      ...     ...      ...  ...      ...      ...       ...       ...\n",
              "44382       0        0       0        0  ...        0        0  1.749137  1.566597\n",
              "44383       0        0       0        0  ...        1        0  1.076392  2.088796\n",
              "44384       1        0       0        0  ...        1        0  1.695317  2.219346\n",
              "44385       0        1       0        0  ...        0        0  1.210941  2.349896\n",
              "44386       0        0       1        0  ...        1        0  1.372400  1.436048\n",
              "\n",
              "[44387 rows x 22 columns]"
            ]
          },
          "metadata": {
            "tags": []
          },
          "execution_count": 19
        }
      ]
    },
    {
      "cell_type": "code",
      "metadata": {
        "id": "k__IVLPveCvx"
      },
      "source": [
        "def target_bin(target_variable,c1,c2):\r\n",
        "  #c1: lower end treshold constraint, sets 0\r\n",
        "  #c2: higher end treshold constraint, sets 1\r\n",
        "  def transform_target(rcl,pos):\r\n",
        "    if rcl.iloc[pos]<=c1:\r\n",
        "      return 0\r\n",
        "    if rcl.iloc[pos]>=c2:\r\n",
        "      return 1\r\n",
        "  return [transform_target(data[target_variable],i) for i in range(len(data))]"
      ],
      "execution_count": null,
      "outputs": []
    },
    {
      "cell_type": "code",
      "metadata": {
        "colab": {
          "base_uri": "https://localhost:8080/"
        },
        "id": "WwwVFLbn_Wbg",
        "outputId": "b1edfe90-a114-4fe3-c383-8deca4106442"
      },
      "source": [
        "set(data[\"freehms\"])"
      ],
      "execution_count": null,
      "outputs": [
        {
          "output_type": "execute_result",
          "data": {
            "text/plain": [
              "{1, 2, 3, 4, 5}"
            ]
          },
          "metadata": {
            "tags": []
          },
          "execution_count": 21
        }
      ]
    },
    {
      "cell_type": "code",
      "metadata": {
        "id": "9zVnjruJiWo5"
      },
      "source": [
        "y = target_bin(\"sblazy\",2,3) #constraints data to binary output"
      ],
      "execution_count": null,
      "outputs": []
    },
    {
      "cell_type": "code",
      "metadata": {
        "id": "Vs0dxl_BZNU2",
        "colab": {
          "base_uri": "https://localhost:8080/",
          "height": 343
        },
        "outputId": "1eae88de-889d-4ac3-ebeb-3a1f20bef1d8"
      },
      "source": [
        "plt.hist(y)"
      ],
      "execution_count": null,
      "outputs": [
        {
          "output_type": "execute_result",
          "data": {
            "text/plain": [
              "(array([18045.,     0.,     0.,     0.,     0.,     0.,     0.,     0.,\n",
              "            0., 26342.]),\n",
              " array([0. , 0.1, 0.2, 0.3, 0.4, 0.5, 0.6, 0.7, 0.8, 0.9, 1. ]),\n",
              " <a list of 10 Patch objects>)"
            ]
          },
          "metadata": {
            "tags": []
          },
          "execution_count": 23
        },
        {
          "output_type": "display_data",
          "data": {
            "image/png": "[encoded data removed]",
            "text/plain": [
              "<Figure size 432x288 with 1 Axes>"
            ]
          },
          "metadata": {
            "tags": []
          }
        }
      ]
    },
    {
      "cell_type": "code",
      "metadata": {
        "id": "TlBzSh-qW5OG"
      },
      "source": [
        "x_pbd_train = psychographics_binarized_data.head(31071)\r\n",
        "x_pbd_test = psychographics_binarized_data.tail(13316)"
      ],
      "execution_count": null,
      "outputs": []
    },
    {
      "cell_type": "code",
      "metadata": {
        "id": "Rps6IC6Dihrg"
      },
      "source": [
        "y_train = y[:31071]\r\n",
        "y_test = y[-13316:]"
      ],
      "execution_count": null,
      "outputs": []
    },
    {
      "cell_type": "markdown",
      "metadata": {
        "id": "Q_n-Kba1Mqda"
      },
      "source": [
        "<br>"
      ]
    },
    {
      "cell_type": "markdown",
      "metadata": {
        "id": "tq297bMxMoLL"
      },
      "source": [
        "### Decision Tree"
      ]
    },
    {
      "cell_type": "code",
      "metadata": {
        "id": "lxgeOGIDXcZK"
      },
      "source": [
        "from sklearn.tree import DecisionTreeClassifier\r\n",
        "model =  DecisionTreeClassifier(max_features=\"auto\",random_state=0).fit(x_pbd_train,y_train)"
      ],
      "execution_count": null,
      "outputs": []
    },
    {
      "cell_type": "code",
      "metadata": {
        "id": "ScD-WaejXtZF"
      },
      "source": [
        "from sklearn.metrics import f1_score\r\n",
        "y_pred = model.predict(x_pbd_test)"
      ],
      "execution_count": null,
      "outputs": []
    },
    {
      "cell_type": "code",
      "metadata": {
        "id": "DIkmyyO1Xter",
        "colab": {
          "base_uri": "https://localhost:8080/"
        },
        "outputId": "926204ea-87dc-4d00-8b33-fd49590a3ed8"
      },
      "source": [
        "f1_score(y_test, y_pred)"
      ],
      "execution_count": null,
      "outputs": [
        {
          "output_type": "execute_result",
          "data": {
            "text/plain": [
              "0.5969864581346557"
            ]
          },
          "metadata": {
            "tags": []
          },
          "execution_count": 28
        }
      ]
    },
    {
      "cell_type": "code",
      "metadata": {
        "id": "Ix500EzLYPkt",
        "colab": {
          "base_uri": "https://localhost:8080/"
        },
        "outputId": "a96a95c2-91c1-41d0-a257-daa7367596c7"
      },
      "source": [
        "model.score(x_pbd_test,y_test)"
      ],
      "execution_count": null,
      "outputs": [
        {
          "output_type": "execute_result",
          "data": {
            "text/plain": [
              "0.5239561429858817"
            ]
          },
          "metadata": {
            "tags": []
          },
          "execution_count": 29
        }
      ]
    },
    {
      "cell_type": "markdown",
      "metadata": {
        "id": "b2KHyVfv8GqS"
      },
      "source": [
        "<br>"
      ]
    },
    {
      "cell_type": "markdown",
      "metadata": {
        "id": "m1XgstLe8BfI"
      },
      "source": [
        "### GaussianNB"
      ]
    },
    {
      "cell_type": "code",
      "metadata": {
        "id": "pIPQ1o-JlPrO"
      },
      "source": [
        "from sklearn.naive_bayes import GaussianNB\r\n",
        "\r\n",
        "model =  GaussianNB(var_smoothing=0.000001).fit(x_pbd_train,y_train)\r\n",
        "y_pred = model.predict(x_pbd_test)"
      ],
      "execution_count": null,
      "outputs": []
    },
    {
      "cell_type": "code",
      "metadata": {
        "id": "J9GUholMn6q2",
        "colab": {
          "base_uri": "https://localhost:8080/"
        },
        "outputId": "ec51a9b4-c4a5-4502-e8c7-a878a8d824f2"
      },
      "source": [
        "f1_score(y_test, y_pred)"
      ],
      "execution_count": null,
      "outputs": [
        {
          "output_type": "execute_result",
          "data": {
            "text/plain": [
              "0.6428197522247426"
            ]
          },
          "metadata": {
            "tags": []
          },
          "execution_count": 31
        }
      ]
    },
    {
      "cell_type": "code",
      "metadata": {
        "id": "-K3gR4Wjn9x6",
        "colab": {
          "base_uri": "https://localhost:8080/"
        },
        "outputId": "56f5f447-08f0-4ad7-a68c-413a4fd1d254"
      },
      "source": [
        "model.score(x_pbd_test,y_test)"
      ],
      "execution_count": null,
      "outputs": [
        {
          "output_type": "execute_result",
          "data": {
            "text/plain": [
              "0.5388254731150496"
            ]
          },
          "metadata": {
            "tags": []
          },
          "execution_count": 32
        }
      ]
    },
    {
      "cell_type": "markdown",
      "metadata": {
        "id": "thBNShxo-tzD"
      },
      "source": [
        "<br>"
      ]
    },
    {
      "cell_type": "markdown",
      "metadata": {
        "id": "hpZjW8I7-shL"
      },
      "source": [
        "### K-Nearest Neighbors"
      ]
    },
    {
      "cell_type": "code",
      "metadata": {
        "id": "GSk9RA0do_3J"
      },
      "source": [
        "from sklearn.neighbors import KNeighborsClassifier\r\n",
        "model =  KNeighborsClassifier(n_neighbors=5).fit(x_pbd_train,y_train)"
      ],
      "execution_count": null,
      "outputs": []
    },
    {
      "cell_type": "code",
      "metadata": {
        "id": "LgrqbDkLrBe8"
      },
      "source": [
        "y_pred = model.predict(x_pbd_test)"
      ],
      "execution_count": null,
      "outputs": []
    },
    {
      "cell_type": "code",
      "metadata": {
        "id": "PKdNDM8brCUo",
        "colab": {
          "base_uri": "https://localhost:8080/"
        },
        "outputId": "25a216f0-10b7-40ee-83ac-0f7b82d69cad"
      },
      "source": [
        "f1_score(y_test, y_pred)"
      ],
      "execution_count": null,
      "outputs": [
        {
          "output_type": "execute_result",
          "data": {
            "text/plain": [
              "0.6302158273381294"
            ]
          },
          "metadata": {
            "tags": []
          },
          "execution_count": 35
        }
      ]
    },
    {
      "cell_type": "code",
      "metadata": {
        "id": "8rL9L2STrD_u",
        "colab": {
          "base_uri": "https://localhost:8080/"
        },
        "outputId": "77eaa887-7467-4df1-89aa-687848187823"
      },
      "source": [
        "model.score(x_pbd_test,y_test)"
      ],
      "execution_count": null,
      "outputs": [
        {
          "output_type": "execute_result",
          "data": {
            "text/plain": [
              "0.5367978371883448"
            ]
          },
          "metadata": {
            "tags": []
          },
          "execution_count": 36
        }
      ]
    },
    {
      "cell_type": "markdown",
      "metadata": {
        "id": "YpPIn-Xb8J2M"
      },
      "source": [
        "<br>"
      ]
    },
    {
      "cell_type": "markdown",
      "metadata": {
        "id": "WL6SG0ii8K6v"
      },
      "source": [
        "### LinearSVC"
      ]
    },
    {
      "cell_type": "code",
      "metadata": {
        "id": "eGTLxJozrQi6"
      },
      "source": [
        "from sklearn.svm import LinearSVC"
      ],
      "execution_count": null,
      "outputs": []
    },
    {
      "cell_type": "code",
      "metadata": {
        "id": "cVixn8NzsNPO"
      },
      "source": [
        "model = LinearSVC(max_iter=2000,class_weight='balanced').fit(x_pbd_train,y_train)"
      ],
      "execution_count": null,
      "outputs": []
    },
    {
      "cell_type": "code",
      "metadata": {
        "id": "jnTdBt8Vs6u3"
      },
      "source": [
        "y_pred = model.predict(x_pbd_test)"
      ],
      "execution_count": null,
      "outputs": []
    },
    {
      "cell_type": "code",
      "metadata": {
        "id": "ivD2FDopuBWz",
        "colab": {
          "base_uri": "https://localhost:8080/"
        },
        "outputId": "b8a6822a-6070-46c4-c549-bd358a70a5ba"
      },
      "source": [
        "f1_score(y_test, y_pred)"
      ],
      "execution_count": null,
      "outputs": [
        {
          "output_type": "execute_result",
          "data": {
            "text/plain": [
              "0.5500142085819836"
            ]
          },
          "metadata": {
            "tags": []
          },
          "execution_count": 40
        }
      ]
    },
    {
      "cell_type": "code",
      "metadata": {
        "id": "LMkWYuqbuF7I",
        "colab": {
          "base_uri": "https://localhost:8080/"
        },
        "outputId": "2aecb3b4-b2b8-4f03-98b9-feb8088918ab"
      },
      "source": [
        "model.score(x_pbd_test,y_test)"
      ],
      "execution_count": null,
      "outputs": [
        {
          "output_type": "execute_result",
          "data": {
            "text/plain": [
              "0.5243316311204566"
            ]
          },
          "metadata": {
            "tags": []
          },
          "execution_count": 41
        }
      ]
    },
    {
      "cell_type": "code",
      "metadata": {
        "id": "k9mqwzuc5m5f",
        "colab": {
          "base_uri": "https://localhost:8080/"
        },
        "outputId": "8ee57880-018f-4119-9cbd-f035453aeea6"
      },
      "source": [
        "y_pred[:50]"
      ],
      "execution_count": null,
      "outputs": [
        {
          "output_type": "execute_result",
          "data": {
            "text/plain": [
              "array([1, 1, 1, 1, 1, 1, 1, 1, 0, 0, 0, 0, 0, 0, 0, 1, 0, 0, 0, 0, 0, 0,\n",
              "       0, 0, 1, 0, 0, 0, 1, 0, 0, 0, 1, 1, 0, 0, 1, 0, 0, 1, 1, 0, 1, 1,\n",
              "       0, 0, 0, 0, 0, 0])"
            ]
          },
          "metadata": {
            "tags": []
          },
          "execution_count": 42
        }
      ]
    },
    {
      "cell_type": "code",
      "metadata": {
        "id": "DxXts0bTTc7j",
        "colab": {
          "base_uri": "https://localhost:8080/"
        },
        "outputId": "6213ebc5-0c3d-4e81-cbc6-797d9d9bcd50"
      },
      "source": [
        "model.coef_"
      ],
      "execution_count": null,
      "outputs": [
        {
          "output_type": "execute_result",
          "data": {
            "text/plain": [
              "array([[ 0.10401446,  0.05588754, -0.12125918, -0.02838007,  0.01144602,\n",
              "         0.01027261,  0.05344043,  0.07557364, -0.02653053, -0.00116246,\n",
              "        -0.0148786 , -0.03126747,  0.04967623, -0.09554854,  0.0136033 ,\n",
              "         0.01252806,  0.06785929, -0.01000671,  0.03669438,  0.06424422,\n",
              "        -0.05894853,  0.07032753]])"
            ]
          },
          "metadata": {
            "tags": []
          },
          "execution_count": 43
        }
      ]
    },
    {
      "cell_type": "markdown",
      "metadata": {
        "id": "OEFoN8h58N6l"
      },
      "source": [
        "<br>"
      ]
    },
    {
      "cell_type": "markdown",
      "metadata": {
        "id": "5XWj3Ghv8OvI"
      },
      "source": [
        "### Random Forests"
      ]
    },
    {
      "cell_type": "code",
      "metadata": {
        "id": "A00DuonvyEcJ"
      },
      "source": [
        " from sklearn.ensemble import RandomForestClassifier\r\n",
        "model = RandomForestClassifier(random_state=0,min_samples_leaf=2).fit(x_pbd_train,y_train)"
      ],
      "execution_count": null,
      "outputs": []
    },
    {
      "cell_type": "code",
      "metadata": {
        "id": "LRhh4D_iDz7w"
      },
      "source": [
        "y_pred = model.predict(x_pbd_test)"
      ],
      "execution_count": null,
      "outputs": []
    },
    {
      "cell_type": "code",
      "metadata": {
        "id": "ABsPbMQQD25T",
        "colab": {
          "base_uri": "https://localhost:8080/"
        },
        "outputId": "5978d4bb-a3ec-4b19-f4c1-a1ce262ab189"
      },
      "source": [
        "f1_score(y_test, y_pred)"
      ],
      "execution_count": null,
      "outputs": [
        {
          "output_type": "execute_result",
          "data": {
            "text/plain": [
              "0.6892353695002136"
            ]
          },
          "metadata": {
            "tags": []
          },
          "execution_count": 46
        }
      ]
    },
    {
      "cell_type": "code",
      "metadata": {
        "id": "dyxPQyuSD36L",
        "colab": {
          "base_uri": "https://localhost:8080/"
        },
        "outputId": "1839c7c6-f364-47e8-e21b-768e60ace43b"
      },
      "source": [
        "model.score(x_pbd_test,y_test)"
      ],
      "execution_count": null,
      "outputs": [
        {
          "output_type": "execute_result",
          "data": {
            "text/plain": [
              "0.5629318113547612"
            ]
          },
          "metadata": {
            "tags": []
          },
          "execution_count": 47
        }
      ]
    },
    {
      "cell_type": "markdown",
      "metadata": {
        "id": "pzbe7etRL6kO"
      },
      "source": [
        "<u>Performance annotations on opinion variables:</u><br><br>\r\n",
        "**sbeqsoc** -  BEST: Random Forests  - F1 0.586 / ACC 0.534<br>\r\n",
        "**sblazy** - BEST: Random Forests - F1 0.690 / ACC 0.563<br>\r\n",
        "**basinc** - BEST: Random Forests - F1 0.702 / ACC 0.593<br>\r\n",
        "**imueclt** - BEST: GAUSSIANNB - F1 0.594 / ACC 0.620<br>\r\n",
        "**imwbcnt** - BEST: GAUSSIANNB - F1 0.423 / ACC 0.653 <br>\r\n",
        "**freehms** - BEST: GAUSSIANNB - F1 0.446 / ACC 0.673"
      ]
    },
    {
      "cell_type": "code",
      "metadata": {
        "id": "R10F127AP-fn"
      },
      "source": [
        "perform = pd.DataFrame()"
      ],
      "execution_count": null,
      "outputs": []
    },
    {
      "cell_type": "code",
      "metadata": {
        "id": "Hd84jicCQrPf"
      },
      "source": [
        "perform[\"op_var\"] = [\"sbeqsoc\",\"sblazy\",\"basinc\",\"imueclt\",\"imwbcnt\",\"freehms\"]\r\n",
        "perform[\"best_model\"] = [\"Random Forests\",\"Random Forests\",\"Random Forests\",\"GaussianNB\",\"GaussianNB\",\"GaussianNB\"]\r\n",
        "perform[\"f1\"] = [0.586,0.690,0.702,0.594,0.423,0.446]\r\n",
        "perform[\"acc\"] = [0.534,0.563,0.593,0.620,0.653,0.673]"
      ],
      "execution_count": null,
      "outputs": []
    },
    {
      "cell_type": "code",
      "metadata": {
        "id": "ID9PTo2hRSHr",
        "colab": {
          "base_uri": "https://localhost:8080/",
          "height": 225
        },
        "outputId": "532f0d92-f62a-4d2f-c259-75bad5797747"
      },
      "source": [
        "perform"
      ],
      "execution_count": null,
      "outputs": [
        {
          "output_type": "execute_result",
          "data": {
            "text/html": [
              "<div>\n",
              "<style scoped>\n",
              "    .dataframe tbody tr th:only-of-type {\n",
              "        vertical-align: middle;\n",
              "    }\n",
              "\n",
              "    .dataframe tbody tr th {\n",
              "        vertical-align: top;\n",
              "    }\n",
              "\n",
              "    .dataframe thead th {\n",
              "        text-align: right;\n",
              "    }\n",
              "</style>\n",
              "<table border=\"1\" class=\"dataframe\">\n",
              "  <thead>\n",
              "    <tr style=\"text-align: right;\">\n",
              "      <th></th>\n",
              "      <th>op_var</th>\n",
              "      <th>best_model</th>\n",
              "      <th>f1</th>\n",
              "      <th>acc</th>\n",
              "    </tr>\n",
              "  </thead>\n",
              "  <tbody>\n",
              "    <tr>\n",
              "      <th>0</th>\n",
              "      <td>sbeqsoc</td>\n",
              "      <td>Random Forests</td>\n",
              "      <td>0.586</td>\n",
              "      <td>0.534</td>\n",
              "    </tr>\n",
              "    <tr>\n",
              "      <th>1</th>\n",
              "      <td>sblazy</td>\n",
              "      <td>Random Forests</td>\n",
              "      <td>0.690</td>\n",
              "      <td>0.563</td>\n",
              "    </tr>\n",
              "    <tr>\n",
              "      <th>2</th>\n",
              "      <td>basinc</td>\n",
              "      <td>Random Forests</td>\n",
              "      <td>0.702</td>\n",
              "      <td>0.593</td>\n",
              "    </tr>\n",
              "    <tr>\n",
              "      <th>3</th>\n",
              "      <td>imueclt</td>\n",
              "      <td>GaussianNB</td>\n",
              "      <td>0.594</td>\n",
              "      <td>0.620</td>\n",
              "    </tr>\n",
              "    <tr>\n",
              "      <th>4</th>\n",
              "      <td>imwbcnt</td>\n",
              "      <td>GaussianNB</td>\n",
              "      <td>0.423</td>\n",
              "      <td>0.653</td>\n",
              "    </tr>\n",
              "    <tr>\n",
              "      <th>5</th>\n",
              "      <td>freehms</td>\n",
              "      <td>GaussianNB</td>\n",
              "      <td>0.446</td>\n",
              "      <td>0.673</td>\n",
              "    </tr>\n",
              "  </tbody>\n",
              "</table>\n",
              "</div>"
            ],
            "text/plain": [
              "    op_var      best_model     f1    acc\n",
              "0  sbeqsoc  Random Forests  0.586  0.534\n",
              "1   sblazy  Random Forests  0.690  0.563\n",
              "2   basinc  Random Forests  0.702  0.593\n",
              "3  imueclt      GaussianNB  0.594  0.620\n",
              "4  imwbcnt      GaussianNB  0.423  0.653\n",
              "5  freehms      GaussianNB  0.446  0.673"
            ]
          },
          "metadata": {
            "tags": []
          },
          "execution_count": 50
        }
      ]
    },
    {
      "cell_type": "code",
      "metadata": {
        "id": "89tTBEAJRTem",
        "colab": {
          "base_uri": "https://localhost:8080/",
          "height": 538
        },
        "outputId": "67316547-0ee6-4ae4-f0c0-ff1eb40718ab"
      },
      "source": [
        "plot_init()\r\n",
        "plt.title(\"Performance of generalised prediction models on opinion variables\")\r\n",
        "sns.barplot(x=\"op_var\", y=\"f1\", hue=\"best_model\",alpha=0.85, data=perform, palette=\"cool\")\r\n",
        "plt.bar(perform[\"op_var\"],perform[\"acc\"], width=0.1, color=\"red\", alpha=0.4, label=\"accuracy\")\r\n",
        "plt.axhline(np.mean(perform[\"f1\"]),linestyle=\"--\", color=\"grey\", alpha=0.7)\r\n",
        "plt.legend()\r\n",
        "plt.xlabel(\"Opinion Variables\")\r\n",
        "plt.ylabel(\"F1 Score / Performance\")"
      ],
      "execution_count": null,
      "outputs": [
        {
          "output_type": "execute_result",
          "data": {
            "text/plain": [
              "Text(0, 0.5, 'F1 Score / Performance')"
            ]
          },
          "metadata": {
            "tags": []
          },
          "execution_count": 51
        },
        {
          "output_type": "display_data",
          "data": {
            "image/png": "[encoded data removed]",
            "text/plain": [
              "<Figure size 1008x576 with 1 Axes>"
            ]
          },
          "metadata": {
            "tags": []
          }
        }
      ]
    },
    {
      "cell_type": "markdown",
      "metadata": {
        "id": "7NsgyPdrCGUP"
      },
      "source": [
        "As shown, generalised classification models<sup>(*)</sup> can fairly predict a human position on a subject given a psychographic baseline of the individual combined with some other sociodemographic information. I have chosen limited variables and binarized some for the sake of simplicity, in a particular case, specific feature-picking and modelling could be done in order to achieve a determined goal.\r\n",
        "\r\n",
        "<i>(*) Meaning that separate models have not been specifically optimised to predict exclusively just one position/opinion.</i>"
      ]
    },
    {
      "cell_type": "markdown",
      "metadata": {
        "id": "JJ_Z2F07K_gh"
      },
      "source": [
        "<br>"
      ]
    },
    {
      "cell_type": "markdown",
      "metadata": {
        "id": "Hp_q-AiuLAtF"
      },
      "source": [
        "## Moving the human perspective\r\n",
        "How can opinion be effectively manipulated? This could be easily done by simply reversing the way the previous prediction algorithm works, tweaking the entry parameters in order to get the desirable output. Let's see how this can be done."
      ]
    },
    {
      "cell_type": "code",
      "metadata": {
        "id": "frUByLTJRH-x",
        "colab": {
          "base_uri": "https://localhost:8080/"
        },
        "outputId": "a59a3454-ed65-4d43-bbe8-d15aa1d2eeb1"
      },
      "source": [
        "x_pbd_test.iloc[0] #current output 1, want to move it to 0"
      ],
      "execution_count": null,
      "outputs": [
        {
          "output_type": "execute_result",
          "data": {
            "text/plain": [
              "impfun     1.000000\n",
              "imptrad    1.000000\n",
              "impenv     1.000000\n",
              "iplylfr    1.000000\n",
              "iprspot    1.000000\n",
              "ipbhprp    1.000000\n",
              "ipadvnt    1.000000\n",
              "ipstrgv    1.000000\n",
              "ipsuces    1.000000\n",
              "iphlppl    1.000000\n",
              "impfree    0.000000\n",
              "ipgdtim    1.000000\n",
              "ipmodst    1.000000\n",
              "ipudrst    1.000000\n",
              "ipfrule    0.000000\n",
              "impdiff    1.000000\n",
              "impsafe    1.000000\n",
              "ipshabt    1.000000\n",
              "imprich    1.000000\n",
              "ipcrtiv    1.000000\n",
              "age        2.125874\n",
              "eduyrs     0.913848\n",
              "Name: 31071, dtype: float64"
            ]
          },
          "metadata": {
            "tags": []
          },
          "execution_count": 52
        }
      ]
    },
    {
      "cell_type": "code",
      "metadata": {
        "id": "obmQqKaeV6Zy"
      },
      "source": [
        "cols = x_pbd_test.columns"
      ],
      "execution_count": null,
      "outputs": []
    },
    {
      "cell_type": "code",
      "metadata": {
        "id": "lmlDBD0hSTUz"
      },
      "source": [
        "model = LinearSVC(max_iter=1000,class_weight='balanced',C=0.0001).fit(x_pbd_train,y_train)"
      ],
      "execution_count": null,
      "outputs": []
    },
    {
      "cell_type": "markdown",
      "metadata": {
        "id": "oFEuFC-jyaa7"
      },
      "source": [
        "Using a LinearSVC model as it allows access to model coefficients."
      ]
    },
    {
      "cell_type": "code",
      "metadata": {
        "id": "0_-9F7iDx4mp"
      },
      "source": [
        "yp_gen = model.predict(x_pbd_test)"
      ],
      "execution_count": null,
      "outputs": []
    },
    {
      "cell_type": "code",
      "metadata": {
        "colab": {
          "base_uri": "https://localhost:8080/"
        },
        "id": "J-dB_YitwW3V",
        "outputId": "a985f97a-c2f8-43fe-d024-9d057cfbc114"
      },
      "source": [
        "f1_score(y_test, yp_gen)"
      ],
      "execution_count": null,
      "outputs": [
        {
          "output_type": "execute_result",
          "data": {
            "text/plain": [
              "0.5701832050670844"
            ]
          },
          "metadata": {
            "tags": []
          },
          "execution_count": 164
        }
      ]
    },
    {
      "cell_type": "code",
      "metadata": {
        "id": "BcMlpm9Fx8KD"
      },
      "source": [
        "act_pred_compar = pd.DataFrame()\r\n",
        "act_pred_compar[\"act\"] = y_test\r\n",
        "act_pred_compar[\"pred\"] = yp_gen"
      ],
      "execution_count": null,
      "outputs": []
    },
    {
      "cell_type": "code",
      "metadata": {
        "colab": {
          "base_uri": "https://localhost:8080/",
          "height": 698
        },
        "id": "JL9zYDCsyMIr",
        "outputId": "8e6cb834-6287-400d-9885-0322648f2084"
      },
      "source": [
        "plot_init()\r\n",
        "plt.title(\"Actual vs Predicted data distributions comparison\")\r\n",
        "sns.kdeplot(act_pred_compar[\"act\"], color=\"#32ff7e\", bw=0.6, alpha=1,shade_lowest=True, label=\"Actual classes\")\r\n",
        "sns.kdeplot(act_pred_compar[\"pred\"], color=\"#ff3bfc\", shade=\"fill\", bw=0.6, alpha=0.4,shade_lowest=True, label=\"Predicted classes\")\r\n",
        "\r\n",
        "\r\n",
        "plt.legend()"
      ],
      "execution_count": null,
      "outputs": [
        {
          "output_type": "stream",
          "text": [
            "/usr/local/lib/python3.7/dist-packages/seaborn/distributions.py:1657: FutureWarning: The `bw` parameter is deprecated in favor of `bw_method` and `bw_adjust`. Using 0.6 for `bw_method`, but please see the docs for the new parameters and update your code.\n",
            "  warnings.warn(msg, FutureWarning)\n",
            "/usr/local/lib/python3.7/dist-packages/seaborn/distributions.py:1676: UserWarning: `shade_lowest` is now deprecated in favor of `thresh`. Setting `thresh=0`, but please update your code.\n",
            "  warnings.warn(msg, UserWarning)\n",
            "/usr/local/lib/python3.7/dist-packages/seaborn/distributions.py:1657: FutureWarning: The `bw` parameter is deprecated in favor of `bw_method` and `bw_adjust`. Using 0.6 for `bw_method`, but please see the docs for the new parameters and update your code.\n",
            "  warnings.warn(msg, FutureWarning)\n",
            "/usr/local/lib/python3.7/dist-packages/seaborn/distributions.py:1676: UserWarning: `shade_lowest` is now deprecated in favor of `thresh`. Setting `thresh=0`, but please update your code.\n",
            "  warnings.warn(msg, UserWarning)\n"
          ],
          "name": "stderr"
        },
        {
          "output_type": "execute_result",
          "data": {
            "text/plain": [
              "<matplotlib.legend.Legend at 0x7fbdf01e1c50>"
            ]
          },
          "metadata": {
            "tags": []
          },
          "execution_count": 167
        },
        {
          "output_type": "display_data",
          "data": {
            "image/png": "[encoded data removed]",
            "text/plain": [
              "<Figure size 1008x576 with 1 Axes>"
            ]
          },
          "metadata": {
            "tags": []
          }
        }
      ]
    },
    {
      "cell_type": "code",
      "metadata": {
        "id": "GPV1NNxaTUVM",
        "colab": {
          "base_uri": "https://localhost:8080/"
        },
        "outputId": "90edcda3-1781-4e24-dcc7-482b095ac15d"
      },
      "source": [
        "model.coef_"
      ],
      "execution_count": null,
      "outputs": [
        {
          "output_type": "execute_result",
          "data": {
            "text/plain": [
              "array([[ 0.10401444,  0.05588766, -0.1212591 , -0.0283801 ,  0.01144606,\n",
              "         0.01027265,  0.0534405 ,  0.07557364, -0.0265306 , -0.00116246,\n",
              "        -0.01487868, -0.03126736,  0.04967631, -0.09554869,  0.01360324,\n",
              "         0.01252798,  0.06785941, -0.01000671,  0.03669445,  0.06424413,\n",
              "        -0.05894875,  0.07032718]])"
            ]
          },
          "metadata": {
            "tags": []
          },
          "execution_count": 58
        }
      ]
    },
    {
      "cell_type": "code",
      "metadata": {
        "id": "L4H9OLZRTWcO"
      },
      "source": [
        "varcoefs = [(model.coef_.reshape(-1,1).tolist()[i][0],cols[i]) for i in range(len(cols))]"
      ],
      "execution_count": null,
      "outputs": []
    },
    {
      "cell_type": "code",
      "metadata": {
        "id": "2yqNc0O7WM8B",
        "colab": {
          "base_uri": "https://localhost:8080/"
        },
        "outputId": "4620a282-5b6d-4946-cb9c-9716cebadad2"
      },
      "source": [
        "sorted(varcoefs)"
      ],
      "execution_count": null,
      "outputs": [
        {
          "output_type": "execute_result",
          "data": {
            "text/plain": [
              "[(-0.12125909531129825, 'impenv'),\n",
              " (-0.09554869040294839, 'ipudrst'),\n",
              " (-0.05894874574929704, 'age'),\n",
              " (-0.03126735754803117, 'ipgdtim'),\n",
              " (-0.028380102185493028, 'iplylfr'),\n",
              " (-0.026530599081109385, 'ipsuces'),\n",
              " (-0.014878683972735007, 'impfree'),\n",
              " (-0.010006712035736665, 'ipshabt'),\n",
              " (-0.0011624552348440398, 'iphlppl'),\n",
              " (0.010272647591826278, 'ipbhprp'),\n",
              " (0.011446064642367637, 'iprspot'),\n",
              " (0.012527982814444005, 'impdiff'),\n",
              " (0.0136032430462526, 'ipfrule'),\n",
              " (0.03669444794970611, 'imprich'),\n",
              " (0.04967630650735133, 'ipmodst'),\n",
              " (0.05344050080271351, 'ipadvnt'),\n",
              " (0.055887655861402374, 'imptrad'),\n",
              " (0.06424412844184885, 'ipcrtiv'),\n",
              " (0.0678594089690922, 'impsafe'),\n",
              " (0.07032717664213857, 'eduyrs'),\n",
              " (0.07557363945051271, 'ipstrgv'),\n",
              " (0.10401443928835091, 'impfun')]"
            ]
          },
          "metadata": {
            "tags": []
          },
          "execution_count": 60
        }
      ]
    },
    {
      "cell_type": "code",
      "metadata": {
        "id": "W2f-l0KUmF8X"
      },
      "source": [
        "sortedcoefs = sorted(model.coef_.reshape(-1,1).ravel().tolist())\r\n",
        "coefs_notord = model.coef_.reshape(-1,1).ravel().tolist()"
      ],
      "execution_count": null,
      "outputs": []
    },
    {
      "cell_type": "code",
      "metadata": {
        "colab": {
          "base_uri": "https://localhost:8080/"
        },
        "id": "o2inLo9YwkFY",
        "outputId": "4068d939-b0bf-49c4-cfff-02ee8f143e41"
      },
      "source": [
        "y_test[40]"
      ],
      "execution_count": null,
      "outputs": [
        {
          "output_type": "execute_result",
          "data": {
            "text/plain": [
              "1"
            ]
          },
          "metadata": {
            "tags": []
          },
          "execution_count": 86
        }
      ]
    },
    {
      "cell_type": "code",
      "metadata": {
        "id": "6L354h-zkxoh"
      },
      "source": [
        "instance = np.array(x_pbd_test.iloc[40])"
      ],
      "execution_count": null,
      "outputs": []
    },
    {
      "cell_type": "code",
      "metadata": {
        "colab": {
          "base_uri": "https://localhost:8080/"
        },
        "id": "ND0YUr2Gk84S",
        "outputId": "274b1b5e-b1bc-446e-86fb-927eea924a6b"
      },
      "source": [
        "instance"
      ],
      "execution_count": null,
      "outputs": [
        {
          "output_type": "execute_result",
          "data": {
            "text/plain": [
              "array([1.        , 0.        , 0.        , 0.        , 0.        ,\n",
              "       0.        , 1.        , 0.        , 0.        , 0.        ,\n",
              "       0.        , 1.        , 0.        , 0.        , 0.        ,\n",
              "       0.        , 0.        , 0.        , 0.        , 0.        ,\n",
              "       1.45312899, 1.95824669])"
            ]
          },
          "metadata": {
            "tags": []
          },
          "execution_count": 63
        }
      ]
    },
    {
      "cell_type": "code",
      "metadata": {
        "id": "wAUryGmmb0nN"
      },
      "source": [
        "vcf = pd.DataFrame()\r\n",
        "vcf[\"cols\"] = cols\r\n",
        "vcf[\"coef\"] = model.coef_.reshape(1,-1)[0].tolist()"
      ],
      "execution_count": null,
      "outputs": []
    },
    {
      "cell_type": "code",
      "metadata": {
        "id": "L4sgf_Cgb-Ig",
        "colab": {
          "base_uri": "https://localhost:8080/",
          "height": 538
        },
        "outputId": "9b4d8cd9-304b-4c86-ba04-fc8b2b9fbe08"
      },
      "source": [
        "plot_init()\r\n",
        "sns.barplot(x=\"cols\",y=\"coef\", data=vcf, palette=\"coolwarm\", hue=\"coef\", dodge=False, alpha=0.8)\r\n",
        "\r\n",
        "plt.title(\"Model coefficients (y=sblazy)\")\r\n",
        "plt.legend([],[], frameon=False)"
      ],
      "execution_count": null,
      "outputs": [
        {
          "output_type": "execute_result",
          "data": {
            "text/plain": [
              "<matplotlib.legend.Legend at 0x7fbdf656a950>"
            ]
          },
          "metadata": {
            "tags": []
          },
          "execution_count": 65
        },
        {
          "output_type": "display_data",
          "data": {
            "image/png": "[encoded data removed]",
            "text/plain": [
              "<Figure size 1008x576 with 1 Axes>"
            ]
          },
          "metadata": {
            "tags": []
          }
        }
      ]
    },
    {
      "cell_type": "markdown",
      "metadata": {
        "id": "zZvzrGk8iaIx"
      },
      "source": [
        "In order to move a perspective all you have to do is change the critical points, which in a real application could be done, for example, with propaganda."
      ]
    },
    {
      "cell_type": "code",
      "metadata": {
        "colab": {
          "base_uri": "https://localhost:8080/",
          "height": 538
        },
        "id": "_jhzAUK3iG07",
        "outputId": "e3d6bdaf-5431-49cb-9dbc-cff4e866cf61"
      },
      "source": [
        "plot_init()\r\n",
        "sns.barplot(x=\"cols\",y=\"coef\", data=vcf[:20], palette=\"Paired_r\", hue=instance[:20], dodge=True, alpha=0.8)\r\n",
        "\r\n",
        "plt.title(\"Model coefficients colored by instance data (y=sblazy)\")"
      ],
      "execution_count": null,
      "outputs": [
        {
          "output_type": "execute_result",
          "data": {
            "text/plain": [
              "Text(0.5, 1.0, 'Model coefficients (y=sblazy)')"
            ]
          },
          "metadata": {
            "tags": []
          },
          "execution_count": 66
        },
        {
          "output_type": "display_data",
          "data": {
            "image/png": "[encoded data removed]",
            "text/plain": [
              "<Figure size 1008x576 with 1 Axes>"
            ]
          },
          "metadata": {
            "tags": []
          }
        }
      ]
    },
    {
      "cell_type": "code",
      "metadata": {
        "id": "eWLTMOSqws3I"
      },
      "source": [
        ""
      ],
      "execution_count": null,
      "outputs": []
    },
    {
      "cell_type": "markdown",
      "metadata": {
        "id": "2VZPx43Cm2rp"
      },
      "source": [
        "Here, it can be seen that tweaking the impenv and ipudrst variable to 1 would fairly increase the chances of flipping the result as these are the negative coefficients that have the most impact on the classification, therefore, by increasing (in this case, flipping from 0 to 1) a negative coefficient, it will lean to the negative class."
      ]
    },
    {
      "cell_type": "code",
      "metadata": {
        "id": "qhQjLDivnOyG"
      },
      "source": [
        "from sklearn.calibration import CalibratedClassifierCV"
      ],
      "execution_count": null,
      "outputs": []
    },
    {
      "cell_type": "code",
      "metadata": {
        "id": "cSdB3z3GnQd3",
        "colab": {
          "base_uri": "https://localhost:8080/"
        },
        "outputId": "b1836187-dbda-49e0-a1a5-7969682b4008"
      },
      "source": [
        "calib = CalibratedClassifierCV(model).fit(x_pbd_train,y_train)"
      ],
      "execution_count": null,
      "outputs": [
        {
          "output_type": "stream",
          "text": [
            "/usr/local/lib/python3.7/dist-packages/sklearn/svm/_base.py:947: ConvergenceWarning: Liblinear failed to converge, increase the number of iterations.\n",
            "  \"the number of iterations.\", ConvergenceWarning)\n"
          ],
          "name": "stderr"
        }
      ]
    },
    {
      "cell_type": "code",
      "metadata": {
        "id": "-yXZB0hOi8-1"
      },
      "source": [
        "tp = instance.reshape(1,-1)"
      ],
      "execution_count": null,
      "outputs": []
    },
    {
      "cell_type": "code",
      "metadata": {
        "colab": {
          "base_uri": "https://localhost:8080/"
        },
        "id": "-wjOWBLmlIoY",
        "outputId": "aba58568-cf43-4853-90a7-4e74cc924653"
      },
      "source": [
        "y_test[40]"
      ],
      "execution_count": null,
      "outputs": [
        {
          "output_type": "execute_result",
          "data": {
            "text/plain": [
              "1"
            ]
          },
          "metadata": {
            "tags": []
          },
          "execution_count": 70
        }
      ]
    },
    {
      "cell_type": "code",
      "metadata": {
        "colab": {
          "base_uri": "https://localhost:8080/"
        },
        "id": "LdcZE9Q3lJ2l",
        "outputId": "dca1fdd7-b857-4056-dfba-8e7621320e19"
      },
      "source": [
        "model.predict(tp)"
      ],
      "execution_count": null,
      "outputs": [
        {
          "output_type": "execute_result",
          "data": {
            "text/plain": [
              "array([1])"
            ]
          },
          "metadata": {
            "tags": []
          },
          "execution_count": 71
        }
      ]
    },
    {
      "cell_type": "code",
      "metadata": {
        "colab": {
          "base_uri": "https://localhost:8080/"
        },
        "id": "VSmH3h3-nWS9",
        "outputId": "a96e2528-580e-488a-de43-79f73badb504"
      },
      "source": [
        "calib.predict_proba(tp)"
      ],
      "execution_count": null,
      "outputs": [
        {
          "output_type": "execute_result",
          "data": {
            "text/plain": [
              "array([[0.39762764, 0.60237236]])"
            ]
          },
          "metadata": {
            "tags": []
          },
          "execution_count": 72
        }
      ]
    },
    {
      "cell_type": "code",
      "metadata": {
        "colab": {
          "base_uri": "https://localhost:8080/",
          "height": 578
        },
        "id": "UpldQmoowz7A",
        "outputId": "72238fda-663f-4916-bd75-da8923a7b550"
      },
      "source": [
        "plot_init()\r\n",
        "sns.barplot([0,1],[0.39762764, 0.60237236], palette=[\"#ff1100\",\"#00f00c\"], alpha=.80)\r\n",
        "plt.title(\"Class Probabilities\")"
      ],
      "execution_count": null,
      "outputs": [
        {
          "output_type": "stream",
          "text": [
            "/usr/local/lib/python3.7/dist-packages/seaborn/_decorators.py:43: FutureWarning: Pass the following variables as keyword args: x, y. From version 0.12, the only valid positional argument will be `data`, and passing other arguments without an explicit keyword will result in an error or misinterpretation.\n",
            "  FutureWarning\n"
          ],
          "name": "stderr"
        },
        {
          "output_type": "execute_result",
          "data": {
            "text/plain": [
              "Text(0.5, 1.0, 'Class Probabilities')"
            ]
          },
          "metadata": {
            "tags": []
          },
          "execution_count": 99
        },
        {
          "output_type": "display_data",
          "data": {
            "image/png": "[encoded data removed]",
            "text/plain": [
              "<Figure size 1008x576 with 1 Axes>"
            ]
          },
          "metadata": {
            "tags": []
          }
        }
      ]
    },
    {
      "cell_type": "code",
      "metadata": {
        "colab": {
          "base_uri": "https://localhost:8080/"
        },
        "id": "Fy_PeNL3nc4n",
        "outputId": "018191fa-f900-415b-8d4a-97908c64fcb9"
      },
      "source": [
        "cols.tolist().index(\"ipudrst\")"
      ],
      "execution_count": null,
      "outputs": [
        {
          "output_type": "execute_result",
          "data": {
            "text/plain": [
              "13"
            ]
          },
          "metadata": {
            "tags": []
          },
          "execution_count": 73
        }
      ]
    },
    {
      "cell_type": "code",
      "metadata": {
        "id": "sSAfjgCcnn38"
      },
      "source": [
        "tp2 = tp.reshape(-1,1)\r\n",
        "tp2[13] = 1\r\n",
        "\r\n",
        "tp2 = tp2.reshape(1,-1)"
      ],
      "execution_count": null,
      "outputs": []
    },
    {
      "cell_type": "code",
      "metadata": {
        "colab": {
          "base_uri": "https://localhost:8080/"
        },
        "id": "cAPyJdWznyUd",
        "outputId": "d3d91c78-d127-4080-a1a0-68d9fb87a328"
      },
      "source": [
        "calib.predict_proba(tp2)"
      ],
      "execution_count": null,
      "outputs": [
        {
          "output_type": "execute_result",
          "data": {
            "text/plain": [
              "array([[0.43060685, 0.56939315]])"
            ]
          },
          "metadata": {
            "tags": []
          },
          "execution_count": 75
        }
      ]
    },
    {
      "cell_type": "markdown",
      "metadata": {
        "id": "kxEhZIr1ozy0"
      },
      "source": [
        "The probabilities have partially shifted into the negative class, but not enough. Now let's also tweak the impenv variable."
      ]
    },
    {
      "cell_type": "code",
      "metadata": {
        "colab": {
          "base_uri": "https://localhost:8080/"
        },
        "id": "14hfvSy0oDm1",
        "outputId": "68bf2dab-8bd6-456f-d130-5ce369c5fdef"
      },
      "source": [
        "cols.tolist().index(\"impenv\")"
      ],
      "execution_count": null,
      "outputs": [
        {
          "output_type": "execute_result",
          "data": {
            "text/plain": [
              "2"
            ]
          },
          "metadata": {
            "tags": []
          },
          "execution_count": 76
        }
      ]
    },
    {
      "cell_type": "code",
      "metadata": {
        "id": "Clr9LCtVpHVz"
      },
      "source": [
        "tp2 = tp.reshape(-1,1)\r\n",
        "tp2[2] = 1\r\n",
        "\r\n",
        "tp2 = tp2.reshape(1,-1)"
      ],
      "execution_count": null,
      "outputs": []
    },
    {
      "cell_type": "code",
      "metadata": {
        "colab": {
          "base_uri": "https://localhost:8080/"
        },
        "id": "ksd53Jt-pJcF",
        "outputId": "d8179f3f-3974-45df-920f-478185a981bb"
      },
      "source": [
        "calib.predict_proba(tp2)"
      ],
      "execution_count": null,
      "outputs": [
        {
          "output_type": "execute_result",
          "data": {
            "text/plain": [
              "array([[0.47288898, 0.52711102]])"
            ]
          },
          "metadata": {
            "tags": []
          },
          "execution_count": 78
        }
      ]
    },
    {
      "cell_type": "markdown",
      "metadata": {
        "id": "wInk5leTpNYP"
      },
      "source": [
        "Almost there, but still not enough, the classes are now balanced nearly a 50/50. One smart option would be to set the highest-impact positive classes to 0, so the negative class can take the reins."
      ]
    },
    {
      "cell_type": "code",
      "metadata": {
        "colab": {
          "base_uri": "https://localhost:8080/"
        },
        "id": "yCyED_YepicV",
        "outputId": "aab4abd8-dcee-4430-c7dc-5e6df1e03474"
      },
      "source": [
        "cols.tolist().index(\"impfun\")"
      ],
      "execution_count": null,
      "outputs": [
        {
          "output_type": "execute_result",
          "data": {
            "text/plain": [
              "0"
            ]
          },
          "metadata": {
            "tags": []
          },
          "execution_count": 79
        }
      ]
    },
    {
      "cell_type": "code",
      "metadata": {
        "colab": {
          "base_uri": "https://localhost:8080/"
        },
        "id": "87Gu97vHp1bs",
        "outputId": "4244d46f-951a-474a-adad-a7c90829c3f7"
      },
      "source": [
        "cols.tolist().index(\"ipadvnt\")"
      ],
      "execution_count": null,
      "outputs": [
        {
          "output_type": "execute_result",
          "data": {
            "text/plain": [
              "6"
            ]
          },
          "metadata": {
            "tags": []
          },
          "execution_count": 80
        }
      ]
    },
    {
      "cell_type": "code",
      "metadata": {
        "id": "XW6owAlWpmmM"
      },
      "source": [
        "tp2 = tp.reshape(-1,1)\r\n",
        "tp2[0] = 0\r\n",
        "tp2[6] = 0\r\n",
        "\r\n",
        "tp2 = tp2.reshape(1,-1)"
      ],
      "execution_count": null,
      "outputs": []
    },
    {
      "cell_type": "code",
      "metadata": {
        "colab": {
          "base_uri": "https://localhost:8080/"
        },
        "id": "ZEYxQUVIppVh",
        "outputId": "3dfab369-050d-4a95-b844-b606ae857b49"
      },
      "source": [
        "calib.predict_proba(tp2)"
      ],
      "execution_count": null,
      "outputs": [
        {
          "output_type": "execute_result",
          "data": {
            "text/plain": [
              "array([[0.52989573, 0.47010427]])"
            ]
          },
          "metadata": {
            "tags": []
          },
          "execution_count": 82
        }
      ]
    },
    {
      "cell_type": "code",
      "metadata": {
        "colab": {
          "base_uri": "https://localhost:8080/",
          "height": 578
        },
        "id": "3G_B2GH4xWwH",
        "outputId": "6ac0ee30-79da-452f-b7c9-92a747dbc332"
      },
      "source": [
        "plot_init()\r\n",
        "sns.barplot([0,1],[0.52989573, 0.47010427], palette=[\"#ff1100\",\"#00f00c\"], alpha=.80)\r\n",
        "plt.title(\"Class Probabilities\")"
      ],
      "execution_count": null,
      "outputs": [
        {
          "output_type": "stream",
          "text": [
            "/usr/local/lib/python3.7/dist-packages/seaborn/_decorators.py:43: FutureWarning: Pass the following variables as keyword args: x, y. From version 0.12, the only valid positional argument will be `data`, and passing other arguments without an explicit keyword will result in an error or misinterpretation.\n",
            "  FutureWarning\n"
          ],
          "name": "stderr"
        },
        {
          "output_type": "execute_result",
          "data": {
            "text/plain": [
              "Text(0.5, 1.0, 'Class Probabilities')"
            ]
          },
          "metadata": {
            "tags": []
          },
          "execution_count": 98
        },
        {
          "output_type": "display_data",
          "data": {
            "image/png": "[encoded data removed]",
            "text/plain": [
              "<Figure size 1008x576 with 1 Axes>"
            ]
          },
          "metadata": {
            "tags": []
          }
        }
      ]
    },
    {
      "cell_type": "code",
      "metadata": {
        "colab": {
          "base_uri": "https://localhost:8080/",
          "height": 538
        },
        "id": "QfC3jfXusHo6",
        "outputId": "c4b5e50f-b4e2-4b31-f0cf-4ef94885f187"
      },
      "source": [
        "plot_init()\r\n",
        "sns.barplot(x=\"cols\",y=\"coef\", data=vcf[:20], palette=\"Paired_r\", hue=tp2.reshape(22,)[:20], dodge=True, alpha=0.8)\r\n",
        "\r\n",
        "plt.title(\"Model coefficients colored by instance data (y=sblazy)\")"
      ],
      "execution_count": null,
      "outputs": [
        {
          "output_type": "execute_result",
          "data": {
            "text/plain": [
              "Text(0.5, 1.0, 'Model coefficients (y=sblazy)')"
            ]
          },
          "metadata": {
            "tags": []
          },
          "execution_count": 83
        },
        {
          "output_type": "display_data",
          "data": {
            "image/png": "[encoded data removed]",
            "text/plain": [
              "<Figure size 1008x576 with 1 Axes>"
            ]
          },
          "metadata": {
            "tags": []
          }
        }
      ]
    },
    {
      "cell_type": "markdown",
      "metadata": {
        "id": "myVgFE_srDTM"
      },
      "source": [
        "The probabilities have finally turned around, which means that a hypothetical human thought has just been manipulated through data-science-techniques. Of course, the probabilities are still quite even, and it took a good effort to finally overturn them, so this person would be called a \"robust subject\", given that manipulate its opinion isn't easy, further tweaking could be executed in theory, but in practice it would result in a difficult real-life implementation; this, always having in consideration the limited number of features selected for modelling, which have been constrained for the sake of simplicity."
      ]
    },
    {
      "cell_type": "code",
      "metadata": {
        "id": "IZmldqQzrBC1"
      },
      "source": [
        ""
      ],
      "execution_count": null,
      "outputs": []
    }
  ]
}